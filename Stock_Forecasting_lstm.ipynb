{
 "cells": [
  {
   "cell_type": "markdown",
   "metadata": {},
   "source": [
    "# Amazon Stock Price Forecasting - using LSTM\n",
    "\n",
    "In this project, we will use lstm to predict future stock prices of amazon (AMZN)"
   ]
  },
  {
   "cell_type": "code",
   "execution_count": 1,
   "metadata": {},
   "outputs": [
    {
     "data": {
      "text/html": [
       "<div>\n",
       "<style scoped>\n",
       "    .dataframe tbody tr th:only-of-type {\n",
       "        vertical-align: middle;\n",
       "    }\n",
       "\n",
       "    .dataframe tbody tr th {\n",
       "        vertical-align: top;\n",
       "    }\n",
       "\n",
       "    .dataframe thead th {\n",
       "        text-align: right;\n",
       "    }\n",
       "</style>\n",
       "<table border=\"1\" class=\"dataframe\">\n",
       "  <thead>\n",
       "    <tr style=\"text-align: right;\">\n",
       "      <th></th>\n",
       "      <th>Date</th>\n",
       "      <th>Open</th>\n",
       "      <th>High</th>\n",
       "      <th>Low</th>\n",
       "      <th>Close</th>\n",
       "      <th>Adj Close</th>\n",
       "      <th>Volume</th>\n",
       "    </tr>\n",
       "  </thead>\n",
       "  <tbody>\n",
       "    <tr>\n",
       "      <th>0</th>\n",
       "      <td>1997-05-15</td>\n",
       "      <td>0.121875</td>\n",
       "      <td>0.125000</td>\n",
       "      <td>0.096354</td>\n",
       "      <td>0.097917</td>\n",
       "      <td>0.097917</td>\n",
       "      <td>1443120000</td>\n",
       "    </tr>\n",
       "    <tr>\n",
       "      <th>1</th>\n",
       "      <td>1997-05-16</td>\n",
       "      <td>0.098438</td>\n",
       "      <td>0.098958</td>\n",
       "      <td>0.085417</td>\n",
       "      <td>0.086458</td>\n",
       "      <td>0.086458</td>\n",
       "      <td>294000000</td>\n",
       "    </tr>\n",
       "    <tr>\n",
       "      <th>2</th>\n",
       "      <td>1997-05-19</td>\n",
       "      <td>0.088021</td>\n",
       "      <td>0.088542</td>\n",
       "      <td>0.081250</td>\n",
       "      <td>0.085417</td>\n",
       "      <td>0.085417</td>\n",
       "      <td>122136000</td>\n",
       "    </tr>\n",
       "    <tr>\n",
       "      <th>3</th>\n",
       "      <td>1997-05-20</td>\n",
       "      <td>0.086458</td>\n",
       "      <td>0.087500</td>\n",
       "      <td>0.081771</td>\n",
       "      <td>0.081771</td>\n",
       "      <td>0.081771</td>\n",
       "      <td>109344000</td>\n",
       "    </tr>\n",
       "    <tr>\n",
       "      <th>4</th>\n",
       "      <td>1997-05-21</td>\n",
       "      <td>0.081771</td>\n",
       "      <td>0.082292</td>\n",
       "      <td>0.068750</td>\n",
       "      <td>0.071354</td>\n",
       "      <td>0.071354</td>\n",
       "      <td>377064000</td>\n",
       "    </tr>\n",
       "  </tbody>\n",
       "</table>\n",
       "</div>"
      ],
      "text/plain": [
       "         Date      Open      High       Low     Close  Adj Close      Volume\n",
       "0  1997-05-15  0.121875  0.125000  0.096354  0.097917   0.097917  1443120000\n",
       "1  1997-05-16  0.098438  0.098958  0.085417  0.086458   0.086458   294000000\n",
       "2  1997-05-19  0.088021  0.088542  0.081250  0.085417   0.085417   122136000\n",
       "3  1997-05-20  0.086458  0.087500  0.081771  0.081771   0.081771   109344000\n",
       "4  1997-05-21  0.081771  0.082292  0.068750  0.071354   0.071354   377064000"
      ]
     },
     "execution_count": 1,
     "metadata": {},
     "output_type": "execute_result"
    }
   ],
   "source": [
    "# Importing Required Libraries\n",
    "import pandas as pd\n",
    "import numpy as np\n",
    "import matplotlib.pyplot as plt\n",
    "\n",
    "import torch \n",
    "import torch.nn as nn\n",
    "\n",
    "# Importing Training Dataset\n",
    "train_data = pd.read_csv('./data/AMZN.csv')\n",
    "train_data.head()"
   ]
  },
  {
   "cell_type": "code",
   "execution_count": 2,
   "metadata": {},
   "outputs": [
    {
     "data": {
      "text/html": [
       "<div>\n",
       "<style scoped>\n",
       "    .dataframe tbody tr th:only-of-type {\n",
       "        vertical-align: middle;\n",
       "    }\n",
       "\n",
       "    .dataframe tbody tr th {\n",
       "        vertical-align: top;\n",
       "    }\n",
       "\n",
       "    .dataframe thead th {\n",
       "        text-align: right;\n",
       "    }\n",
       "</style>\n",
       "<table border=\"1\" class=\"dataframe\">\n",
       "  <thead>\n",
       "    <tr style=\"text-align: right;\">\n",
       "      <th></th>\n",
       "      <th>Date</th>\n",
       "      <th>Open</th>\n",
       "      <th>High</th>\n",
       "      <th>Low</th>\n",
       "      <th>Close</th>\n",
       "      <th>Volume</th>\n",
       "    </tr>\n",
       "  </thead>\n",
       "  <tbody>\n",
       "    <tr>\n",
       "      <th>0</th>\n",
       "      <td>01/22/2024</td>\n",
       "      <td>156.89</td>\n",
       "      <td>157.05</td>\n",
       "      <td>153.90</td>\n",
       "      <td>154.78</td>\n",
       "      <td>43,687,473</td>\n",
       "    </tr>\n",
       "    <tr>\n",
       "      <th>1</th>\n",
       "      <td>01/19/2024</td>\n",
       "      <td>153.83</td>\n",
       "      <td>155.76</td>\n",
       "      <td>152.74</td>\n",
       "      <td>155.34</td>\n",
       "      <td>51,651,633</td>\n",
       "    </tr>\n",
       "    <tr>\n",
       "      <th>2</th>\n",
       "      <td>01/18/2024</td>\n",
       "      <td>152.77</td>\n",
       "      <td>153.78</td>\n",
       "      <td>151.82</td>\n",
       "      <td>153.50</td>\n",
       "      <td>37,850,246</td>\n",
       "    </tr>\n",
       "    <tr>\n",
       "      <th>3</th>\n",
       "      <td>01/17/2024</td>\n",
       "      <td>151.49</td>\n",
       "      <td>152.15</td>\n",
       "      <td>149.91</td>\n",
       "      <td>151.71</td>\n",
       "      <td>34,953,359</td>\n",
       "    </tr>\n",
       "    <tr>\n",
       "      <th>4</th>\n",
       "      <td>01/16/2024</td>\n",
       "      <td>153.53</td>\n",
       "      <td>154.99</td>\n",
       "      <td>152.15</td>\n",
       "      <td>153.16</td>\n",
       "      <td>41,384,641</td>\n",
       "    </tr>\n",
       "  </tbody>\n",
       "</table>\n",
       "</div>"
      ],
      "text/plain": [
       "         Date    Open    High     Low   Close      Volume\n",
       "0  01/22/2024  156.89  157.05  153.90  154.78  43,687,473\n",
       "1  01/19/2024  153.83  155.76  152.74  155.34  51,651,633\n",
       "2  01/18/2024  152.77  153.78  151.82  153.50  37,850,246\n",
       "3  01/17/2024  151.49  152.15  149.91  151.71  34,953,359\n",
       "4  01/16/2024  153.53  154.99  152.15  153.16  41,384,641"
      ]
     },
     "execution_count": 2,
     "metadata": {},
     "output_type": "execute_result"
    }
   ],
   "source": [
    "# Importing Testing Dataset\n",
    "test_data = pd.read_csv('./data/STOCK_US_XNAS_AMZN.csv')\n",
    "test_data.head()"
   ]
  },
  {
   "cell_type": "markdown",
   "metadata": {},
   "source": [
    "# Preprocessing the data.\n",
    "\n",
    "In cases where stock prices are to be predicted from previous patterns, all that matters is the `date` and `close`.\n",
    "\n",
    "Therefore, we will only keep `Date` and `Close` columns and drop all the other."
   ]
  },
  {
   "cell_type": "code",
   "execution_count": 3,
   "metadata": {},
   "outputs": [
    {
     "data": {
      "text/html": [
       "<div>\n",
       "<style scoped>\n",
       "    .dataframe tbody tr th:only-of-type {\n",
       "        vertical-align: middle;\n",
       "    }\n",
       "\n",
       "    .dataframe tbody tr th {\n",
       "        vertical-align: top;\n",
       "    }\n",
       "\n",
       "    .dataframe thead th {\n",
       "        text-align: right;\n",
       "    }\n",
       "</style>\n",
       "<table border=\"1\" class=\"dataframe\">\n",
       "  <thead>\n",
       "    <tr style=\"text-align: right;\">\n",
       "      <th></th>\n",
       "      <th>Date</th>\n",
       "      <th>Close</th>\n",
       "    </tr>\n",
       "  </thead>\n",
       "  <tbody>\n",
       "    <tr>\n",
       "      <th>0</th>\n",
       "      <td>1997-05-15</td>\n",
       "      <td>0.097917</td>\n",
       "    </tr>\n",
       "    <tr>\n",
       "      <th>1</th>\n",
       "      <td>1997-05-16</td>\n",
       "      <td>0.086458</td>\n",
       "    </tr>\n",
       "    <tr>\n",
       "      <th>2</th>\n",
       "      <td>1997-05-19</td>\n",
       "      <td>0.085417</td>\n",
       "    </tr>\n",
       "    <tr>\n",
       "      <th>3</th>\n",
       "      <td>1997-05-20</td>\n",
       "      <td>0.081771</td>\n",
       "    </tr>\n",
       "    <tr>\n",
       "      <th>4</th>\n",
       "      <td>1997-05-21</td>\n",
       "      <td>0.071354</td>\n",
       "    </tr>\n",
       "  </tbody>\n",
       "</table>\n",
       "</div>"
      ],
      "text/plain": [
       "         Date     Close\n",
       "0  1997-05-15  0.097917\n",
       "1  1997-05-16  0.086458\n",
       "2  1997-05-19  0.085417\n",
       "3  1997-05-20  0.081771\n",
       "4  1997-05-21  0.071354"
      ]
     },
     "execution_count": 3,
     "metadata": {},
     "output_type": "execute_result"
    }
   ],
   "source": [
    "train_data = train_data[['Date', 'Close']]\n",
    "train_data.head()"
   ]
  },
  {
   "cell_type": "code",
   "execution_count": 4,
   "metadata": {},
   "outputs": [
    {
     "data": {
      "text/html": [
       "<div>\n",
       "<style scoped>\n",
       "    .dataframe tbody tr th:only-of-type {\n",
       "        vertical-align: middle;\n",
       "    }\n",
       "\n",
       "    .dataframe tbody tr th {\n",
       "        vertical-align: top;\n",
       "    }\n",
       "\n",
       "    .dataframe thead th {\n",
       "        text-align: right;\n",
       "    }\n",
       "</style>\n",
       "<table border=\"1\" class=\"dataframe\">\n",
       "  <thead>\n",
       "    <tr style=\"text-align: right;\">\n",
       "      <th></th>\n",
       "      <th>Date</th>\n",
       "      <th>Close</th>\n",
       "    </tr>\n",
       "  </thead>\n",
       "  <tbody>\n",
       "    <tr>\n",
       "      <th>0</th>\n",
       "      <td>01/22/2024</td>\n",
       "      <td>154.78</td>\n",
       "    </tr>\n",
       "    <tr>\n",
       "      <th>1</th>\n",
       "      <td>01/19/2024</td>\n",
       "      <td>155.34</td>\n",
       "    </tr>\n",
       "    <tr>\n",
       "      <th>2</th>\n",
       "      <td>01/18/2024</td>\n",
       "      <td>153.50</td>\n",
       "    </tr>\n",
       "    <tr>\n",
       "      <th>3</th>\n",
       "      <td>01/17/2024</td>\n",
       "      <td>151.71</td>\n",
       "    </tr>\n",
       "    <tr>\n",
       "      <th>4</th>\n",
       "      <td>01/16/2024</td>\n",
       "      <td>153.16</td>\n",
       "    </tr>\n",
       "  </tbody>\n",
       "</table>\n",
       "</div>"
      ],
      "text/plain": [
       "         Date   Close\n",
       "0  01/22/2024  154.78\n",
       "1  01/19/2024  155.34\n",
       "2  01/18/2024  153.50\n",
       "3  01/17/2024  151.71\n",
       "4  01/16/2024  153.16"
      ]
     },
     "execution_count": 4,
     "metadata": {},
     "output_type": "execute_result"
    }
   ],
   "source": [
    "test_data = test_data[['Date', 'Close']]\n",
    "test_data.head()"
   ]
  },
  {
   "cell_type": "markdown",
   "metadata": {},
   "source": [
    "Selecting `GPU` if available for accelerated model training. "
   ]
  },
  {
   "cell_type": "code",
   "execution_count": 5,
   "metadata": {},
   "outputs": [
    {
     "data": {
      "text/plain": [
       "'cuda:0'"
      ]
     },
     "execution_count": 5,
     "metadata": {},
     "output_type": "execute_result"
    }
   ],
   "source": [
    "device = 'cuda:0' if torch.cuda.is_available() else 'cpu'\n",
    "device"
   ]
  },
  {
   "cell_type": "markdown",
   "metadata": {},
   "source": [
    "Converting Date column from `string` datatype into `datetime` datatype"
   ]
  },
  {
   "cell_type": "code",
   "execution_count": 6,
   "metadata": {},
   "outputs": [
    {
     "data": {
      "text/plain": [
       "[<matplotlib.lines.Line2D at 0x22681c90700>]"
      ]
     },
     "execution_count": 6,
     "metadata": {},
     "output_type": "execute_result"
    },
    {
     "data": {
      "image/png": "[encoded data removed]",
      "text/plain": [
       "<Figure size 640x480 with 1 Axes>"
      ]
     },
     "metadata": {},
     "output_type": "display_data"
    }
   ],
   "source": [
    "train_data['Date'] = pd.to_datetime(train_data['Date'])\n",
    "\n",
    "plt.plot(train_data['Date'], train_data['Close'])"
   ]
  },
  {
   "cell_type": "code",
   "execution_count": 7,
   "metadata": {},
   "outputs": [
    {
     "data": {
      "text/plain": [
       "[<matplotlib.lines.Line2D at 0x226883f2080>]"
      ]
     },
     "execution_count": 7,
     "metadata": {},
     "output_type": "execute_result"
    },
    {
     "data": {
      "image/png": "[encoded data removed]",
      "text/plain": [
       "<Figure size 640x480 with 1 Axes>"
      ]
     },
     "metadata": {},
     "output_type": "display_data"
    }
   ],
   "source": [
    "test_data['Date'] = pd.to_datetime(test_data['Date'])\n",
    "\n",
    "plt.plot(test_data['Date'], test_data['Close'])"
   ]
  },
  {
   "cell_type": "markdown",
   "metadata": {},
   "source": [
    "Now, as we know we only need `previous close values` and the `date` to predict future values, \n",
    "we will simplify the process for us by creating columns for past close values. \n",
    "\n",
    "These columns will each hold close values of previous days, upto however many days we want. Let us try and test performance of the model with 7 previous days' worth of values. The model will be trained on these 7 values (`X`) to predict the actual close value (`y`). "
   ]
  },
  {
   "cell_type": "code",
   "execution_count": 8,
   "metadata": {},
   "outputs": [
    {
     "data": {
      "text/html": [
       "<div>\n",
       "<style scoped>\n",
       "    .dataframe tbody tr th:only-of-type {\n",
       "        vertical-align: middle;\n",
       "    }\n",
       "\n",
       "    .dataframe tbody tr th {\n",
       "        vertical-align: top;\n",
       "    }\n",
       "\n",
       "    .dataframe thead th {\n",
       "        text-align: right;\n",
       "    }\n",
       "</style>\n",
       "<table border=\"1\" class=\"dataframe\">\n",
       "  <thead>\n",
       "    <tr style=\"text-align: right;\">\n",
       "      <th></th>\n",
       "      <th>Close</th>\n",
       "      <th>Close(t-1)</th>\n",
       "      <th>Close(t-2)</th>\n",
       "      <th>Close(t-3)</th>\n",
       "      <th>Close(t-4)</th>\n",
       "      <th>Close(t-5)</th>\n",
       "      <th>Close(t-6)</th>\n",
       "      <th>Close(t-7)</th>\n",
       "    </tr>\n",
       "    <tr>\n",
       "      <th>Date</th>\n",
       "      <th></th>\n",
       "      <th></th>\n",
       "      <th></th>\n",
       "      <th></th>\n",
       "      <th></th>\n",
       "      <th></th>\n",
       "      <th></th>\n",
       "      <th></th>\n",
       "    </tr>\n",
       "  </thead>\n",
       "  <tbody>\n",
       "    <tr>\n",
       "      <th>1997-05-27</th>\n",
       "      <td>0.079167</td>\n",
       "      <td>0.075000</td>\n",
       "      <td>0.069792</td>\n",
       "      <td>0.071354</td>\n",
       "      <td>0.081771</td>\n",
       "      <td>0.085417</td>\n",
       "      <td>0.086458</td>\n",
       "      <td>0.097917</td>\n",
       "    </tr>\n",
       "    <tr>\n",
       "      <th>1997-05-28</th>\n",
       "      <td>0.076563</td>\n",
       "      <td>0.079167</td>\n",
       "      <td>0.075000</td>\n",
       "      <td>0.069792</td>\n",
       "      <td>0.071354</td>\n",
       "      <td>0.081771</td>\n",
       "      <td>0.085417</td>\n",
       "      <td>0.086458</td>\n",
       "    </tr>\n",
       "    <tr>\n",
       "      <th>1997-05-29</th>\n",
       "      <td>0.075260</td>\n",
       "      <td>0.076563</td>\n",
       "      <td>0.079167</td>\n",
       "      <td>0.075000</td>\n",
       "      <td>0.069792</td>\n",
       "      <td>0.071354</td>\n",
       "      <td>0.081771</td>\n",
       "      <td>0.085417</td>\n",
       "    </tr>\n",
       "    <tr>\n",
       "      <th>1997-05-30</th>\n",
       "      <td>0.075000</td>\n",
       "      <td>0.075260</td>\n",
       "      <td>0.076563</td>\n",
       "      <td>0.079167</td>\n",
       "      <td>0.075000</td>\n",
       "      <td>0.069792</td>\n",
       "      <td>0.071354</td>\n",
       "      <td>0.081771</td>\n",
       "    </tr>\n",
       "    <tr>\n",
       "      <th>1997-06-02</th>\n",
       "      <td>0.075521</td>\n",
       "      <td>0.075000</td>\n",
       "      <td>0.075260</td>\n",
       "      <td>0.076563</td>\n",
       "      <td>0.079167</td>\n",
       "      <td>0.075000</td>\n",
       "      <td>0.069792</td>\n",
       "      <td>0.071354</td>\n",
       "    </tr>\n",
       "  </tbody>\n",
       "</table>\n",
       "</div>"
      ],
      "text/plain": [
       "               Close  Close(t-1)  Close(t-2)  Close(t-3)  Close(t-4)  \\\n",
       "Date                                                                   \n",
       "1997-05-27  0.079167    0.075000    0.069792    0.071354    0.081771   \n",
       "1997-05-28  0.076563    0.079167    0.075000    0.069792    0.071354   \n",
       "1997-05-29  0.075260    0.076563    0.079167    0.075000    0.069792   \n",
       "1997-05-30  0.075000    0.075260    0.076563    0.079167    0.075000   \n",
       "1997-06-02  0.075521    0.075000    0.075260    0.076563    0.079167   \n",
       "\n",
       "            Close(t-5)  Close(t-6)  Close(t-7)  \n",
       "Date                                            \n",
       "1997-05-27    0.085417    0.086458    0.097917  \n",
       "1997-05-28    0.081771    0.085417    0.086458  \n",
       "1997-05-29    0.071354    0.081771    0.085417  \n",
       "1997-05-30    0.069792    0.071354    0.081771  \n",
       "1997-06-02    0.075000    0.069792    0.071354  "
      ]
     },
     "execution_count": 8,
     "metadata": {},
     "output_type": "execute_result"
    }
   ],
   "source": [
    "from copy import deepcopy as dc\n",
    "\n",
    "def prepare_daraframe_for_lstm(df, n_steps):\n",
    "    df = dc(df)\n",
    "    df.set_index('Date', inplace = True)\n",
    "    \n",
    "    for i in range(1, n_steps+1):\n",
    "        df[f'Close(t-{i})'] = df['Close'].shift(i)\n",
    "    \n",
    "    df.dropna(inplace = True)\n",
    "    \n",
    "    return df\n",
    "\n",
    "lookback = 7\n",
    "train_df = prepare_daraframe_for_lstm(train_data, lookback)\n",
    "train_df.head()"
   ]
  },
  {
   "cell_type": "code",
   "execution_count": 9,
   "metadata": {},
   "outputs": [
    {
     "data": {
      "text/html": [
       "<div>\n",
       "<style scoped>\n",
       "    .dataframe tbody tr th:only-of-type {\n",
       "        vertical-align: middle;\n",
       "    }\n",
       "\n",
       "    .dataframe tbody tr th {\n",
       "        vertical-align: top;\n",
       "    }\n",
       "\n",
       "    .dataframe thead th {\n",
       "        text-align: right;\n",
       "    }\n",
       "</style>\n",
       "<table border=\"1\" class=\"dataframe\">\n",
       "  <thead>\n",
       "    <tr style=\"text-align: right;\">\n",
       "      <th></th>\n",
       "      <th>Close</th>\n",
       "      <th>Close(t-1)</th>\n",
       "      <th>Close(t-2)</th>\n",
       "      <th>Close(t-3)</th>\n",
       "      <th>Close(t-4)</th>\n",
       "      <th>Close(t-5)</th>\n",
       "      <th>Close(t-6)</th>\n",
       "      <th>Close(t-7)</th>\n",
       "    </tr>\n",
       "    <tr>\n",
       "      <th>Date</th>\n",
       "      <th></th>\n",
       "      <th></th>\n",
       "      <th></th>\n",
       "      <th></th>\n",
       "      <th></th>\n",
       "      <th></th>\n",
       "      <th></th>\n",
       "      <th></th>\n",
       "    </tr>\n",
       "  </thead>\n",
       "  <tbody>\n",
       "    <tr>\n",
       "      <th>2024-01-10</th>\n",
       "      <td>153.73</td>\n",
       "      <td>155.18</td>\n",
       "      <td>154.62</td>\n",
       "      <td>153.16</td>\n",
       "      <td>151.71</td>\n",
       "      <td>153.50</td>\n",
       "      <td>155.34</td>\n",
       "      <td>154.78</td>\n",
       "    </tr>\n",
       "    <tr>\n",
       "      <th>2024-01-09</th>\n",
       "      <td>151.37</td>\n",
       "      <td>153.73</td>\n",
       "      <td>155.18</td>\n",
       "      <td>154.62</td>\n",
       "      <td>153.16</td>\n",
       "      <td>151.71</td>\n",
       "      <td>153.50</td>\n",
       "      <td>155.34</td>\n",
       "    </tr>\n",
       "    <tr>\n",
       "      <th>2024-01-08</th>\n",
       "      <td>149.10</td>\n",
       "      <td>151.37</td>\n",
       "      <td>153.73</td>\n",
       "      <td>155.18</td>\n",
       "      <td>154.62</td>\n",
       "      <td>153.16</td>\n",
       "      <td>151.71</td>\n",
       "      <td>153.50</td>\n",
       "    </tr>\n",
       "    <tr>\n",
       "      <th>2024-01-05</th>\n",
       "      <td>145.24</td>\n",
       "      <td>149.10</td>\n",
       "      <td>151.37</td>\n",
       "      <td>153.73</td>\n",
       "      <td>155.18</td>\n",
       "      <td>154.62</td>\n",
       "      <td>153.16</td>\n",
       "      <td>151.71</td>\n",
       "    </tr>\n",
       "    <tr>\n",
       "      <th>2024-01-04</th>\n",
       "      <td>144.57</td>\n",
       "      <td>145.24</td>\n",
       "      <td>149.10</td>\n",
       "      <td>151.37</td>\n",
       "      <td>153.73</td>\n",
       "      <td>155.18</td>\n",
       "      <td>154.62</td>\n",
       "      <td>153.16</td>\n",
       "    </tr>\n",
       "  </tbody>\n",
       "</table>\n",
       "</div>"
      ],
      "text/plain": [
       "             Close  Close(t-1)  Close(t-2)  Close(t-3)  Close(t-4)  \\\n",
       "Date                                                                 \n",
       "2024-01-10  153.73      155.18      154.62      153.16      151.71   \n",
       "2024-01-09  151.37      153.73      155.18      154.62      153.16   \n",
       "2024-01-08  149.10      151.37      153.73      155.18      154.62   \n",
       "2024-01-05  145.24      149.10      151.37      153.73      155.18   \n",
       "2024-01-04  144.57      145.24      149.10      151.37      153.73   \n",
       "\n",
       "            Close(t-5)  Close(t-6)  Close(t-7)  \n",
       "Date                                            \n",
       "2024-01-10      153.50      155.34      154.78  \n",
       "2024-01-09      151.71      153.50      155.34  \n",
       "2024-01-08      153.16      151.71      153.50  \n",
       "2024-01-05      154.62      153.16      151.71  \n",
       "2024-01-04      155.18      154.62      153.16  "
      ]
     },
     "execution_count": 9,
     "metadata": {},
     "output_type": "execute_result"
    }
   ],
   "source": [
    "test_df = prepare_daraframe_for_lstm(test_data, lookback)\n",
    "test_df.head()"
   ]
  },
  {
   "cell_type": "code",
   "execution_count": 10,
   "metadata": {},
   "outputs": [
    {
     "data": {
      "text/plain": [
       "array([[-0.99991063, -0.99995531, -1.        , ..., -0.99983244,\n",
       "        -0.99982128, -0.99969839],\n",
       "       [-0.99993855, -0.99991063, -0.99994415, ..., -0.99987154,\n",
       "        -0.99983244, -0.99982128],\n",
       "       [-0.99995253, -0.99993855, -0.99989946, ..., -0.99998325,\n",
       "        -0.99987154, -0.99983244],\n",
       "       ...,\n",
       "       [ 0.09747299,  0.10690997,  0.09308121, ...,  0.0506149 ,\n",
       "         0.05158   ,  0.05779984],\n",
       "       [ 0.11398769,  0.09747299,  0.10691495, ...,  0.04203581,\n",
       "         0.0506149 ,  0.05158   ],\n",
       "       [ 0.08342464,  0.11398769,  0.09747802, ...,  0.07431453,\n",
       "         0.04203581,  0.0506149 ]])"
      ]
     },
     "execution_count": 10,
     "metadata": {},
     "output_type": "execute_result"
    }
   ],
   "source": [
    "# scaling the data\n",
    "from sklearn.preprocessing import MinMaxScaler\n",
    "\n",
    "scaler = MinMaxScaler(feature_range=(-1, 1))\n",
    "train_df_as_np = scaler.fit_transform(train_df)\n",
    "\n",
    "train_df_as_np"
   ]
  },
  {
   "cell_type": "code",
   "execution_count": 11,
   "metadata": {},
   "outputs": [
    {
     "data": {
      "text/plain": [
       "array([[ 0.98790896,  1.        ,  0.98047079, ...,  0.93675889,\n",
       "         1.        ,  0.97898292],\n",
       "       [ 0.90398293,  0.9494333 ,  1.        , ...,  0.869377  ,\n",
       "         0.93094389,  1.        ],\n",
       "       [ 0.82325747,  0.86713165,  0.9494333 , ...,  0.9239601 ,\n",
       "         0.86376431,  0.93094389],\n",
       "       ...,\n",
       "       [-0.92567568, -1.        , -0.84062772, ..., -0.99058912,\n",
       "        -0.91555639, -0.93394633],\n",
       "       [-0.84566145, -0.92711421, -1.        , ..., -0.97402597,\n",
       "        -0.99061738, -0.91555639],\n",
       "       [-0.84957326, -0.84864865, -0.92711421, ..., -0.98268398,\n",
       "        -0.97410396, -0.99061738]])"
      ]
     },
     "execution_count": 11,
     "metadata": {},
     "output_type": "execute_result"
    }
   ],
   "source": [
    "test_df_as_np = scaler.fit_transform(test_df)\n",
    "test_df_as_np"
   ]
  },
  {
   "cell_type": "code",
   "execution_count": 12,
   "metadata": {},
   "outputs": [
    {
     "data": {
      "text/plain": [
       "((6509, 7), (6509,))"
      ]
     },
     "execution_count": 12,
     "metadata": {},
     "output_type": "execute_result"
    }
   ],
   "source": [
    "X_train = train_df_as_np[:, 1:]\n",
    "X_train = dc(np.flip(X_train, axis = 1))\n",
    "\n",
    "y_train = train_df_as_np[:, 0]\n",
    "\n",
    "X_train.shape, y_train.shape"
   ]
  },
  {
   "cell_type": "code",
   "execution_count": 13,
   "metadata": {},
   "outputs": [
    {
     "data": {
      "text/plain": [
       "(array([[-0.99969839, -0.99982128, -0.99983244, ..., -0.99998325,\n",
       "         -1.        , -0.99995531],\n",
       "        [-0.99982128, -0.99983244, -0.99987154, ..., -1.        ,\n",
       "         -0.99994415, -0.99991063],\n",
       "        [-0.99983244, -0.99987154, -0.99998325, ..., -0.99994415,\n",
       "         -0.99989946, -0.99993855],\n",
       "        ...,\n",
       "        [ 0.05779984,  0.05158   ,  0.0506149 , ...,  0.07431453,\n",
       "          0.09308121,  0.10690997],\n",
       "        [ 0.05158   ,  0.0506149 ,  0.04203581, ...,  0.09308121,\n",
       "          0.10691495,  0.09747299],\n",
       "        [ 0.0506149 ,  0.04203581,  0.07431453, ...,  0.10691495,\n",
       "          0.09747802,  0.11398769]]),\n",
       " array([-0.99991063, -0.99993855, -0.99995253, ...,  0.09747299,\n",
       "         0.11398769,  0.08342464]))"
      ]
     },
     "execution_count": 13,
     "metadata": {},
     "output_type": "execute_result"
    }
   ],
   "source": [
    "X_train, y_train"
   ]
  },
  {
   "cell_type": "code",
   "execution_count": 14,
   "metadata": {},
   "outputs": [
    {
     "data": {
      "text/plain": [
       "((192, 7), (192,))"
      ]
     },
     "execution_count": 14,
     "metadata": {},
     "output_type": "execute_result"
    }
   ],
   "source": [
    "X_test = test_df_as_np[:, 1:]\n",
    "X_test = dc(np.flip(X_test, axis = 1))\n",
    "\n",
    "y_test = test_df_as_np[:, 0]\n",
    "\n",
    "X_test.shape, y_test.shape"
   ]
  },
  {
   "cell_type": "code",
   "execution_count": 15,
   "metadata": {},
   "outputs": [
    {
     "data": {
      "text/plain": [
       "(array([[ 0.97898292,  1.        ,  0.93675889, ...,  0.92955536,\n",
       "          0.98047079,  1.        ],\n",
       "        [ 1.        ,  0.93094389,  0.869377  , ...,  0.98047079,\n",
       "          1.        ,  0.9494333 ],\n",
       "        [ 0.93094389,  0.86376431,  0.9239601 , ...,  1.        ,\n",
       "          0.9494333 ,  0.86713165],\n",
       "        ...,\n",
       "        [-0.93394633, -0.91555639, -0.99058912, ..., -0.83679163,\n",
       "         -0.84062772, -1.        ],\n",
       "        [-0.91555639, -0.99061738, -0.97402597, ..., -0.84062772,\n",
       "         -1.        , -0.92711421],\n",
       "        [-0.99061738, -0.97410396, -0.98268398, ..., -1.        ,\n",
       "         -0.92711421, -0.84864865]]),\n",
       " array([ 9.87908962e-01,  9.03982930e-01,  8.23257468e-01,  6.85988620e-01,\n",
       "         6.62162162e-01,  8.00853485e-01,  8.52773826e-01,  9.24253201e-01,\n",
       "         9.75462304e-01,  9.74039829e-01,  9.76529161e-01,  9.76884780e-01,\n",
       "         9.91820768e-01,  9.30654339e-01,  9.90042674e-01,  1.00000000e+00,\n",
       "         8.54196302e-01,  7.63513514e-01,  8.14011380e-01,  7.65647226e-01,\n",
       "         7.09103841e-01,  7.63513514e-01,  7.44310100e-01,  6.60384068e-01,\n",
       "         7.44310100e-01,  6.71763869e-01,  7.49644381e-01,  7.16216216e-01,\n",
       "         7.24395448e-01,  7.49644381e-01,  7.74537696e-01,  7.39331437e-01,\n",
       "         7.38264580e-01,  6.38335704e-01,  7.17638691e-01,  6.83854908e-01,\n",
       "         6.00284495e-01,  6.13442390e-01,  7.05903272e-01,  5.91749644e-01,\n",
       "         6.26244666e-01,  5.20981508e-01,  5.73613087e-01,  5.96017070e-01,\n",
       "         4.90398293e-01,  4.49857752e-01,  4.31009957e-01,  3.92958748e-01,\n",
       "         2.53911807e-01,  2.40398293e-01,  6.36557610e-02, -2.26884780e-01,\n",
       "        -1.62162162e-01,  9.28165007e-02,  2.16927454e-02, -2.77382646e-02,\n",
       "         8.71266003e-02,  7.75248933e-02,  1.96301565e-01,  2.34708393e-01,\n",
       "         1.36557610e-01,  2.26884780e-01,  2.09103841e-01,  1.25533428e-01,\n",
       "         8.21479374e-02,  7.14793741e-02,  3.55618777e-04,  3.73399716e-02,\n",
       "        -4.37411095e-02,  1.24822191e-01,  4.16073969e-02,  1.06685633e-03,\n",
       "         1.06685633e-03,  1.06685633e-03,  1.89189189e-01,  1.12731152e-01,\n",
       "         1.20199147e-01,  3.32147937e-01,  4.15362731e-01,  4.98933144e-01,\n",
       "         5.13513514e-01,  6.67496444e-01,  6.72119488e-01,  5.43385491e-01,\n",
       "         6.09886202e-01,  4.36699858e-01,  4.23186344e-01,  3.34637269e-01,\n",
       "         4.02560455e-01,  4.32788051e-01,  4.28876245e-01,  3.24324324e-01,\n",
       "         3.18634424e-01,  2.55689900e-01,  2.59957326e-01,  2.09459459e-01,\n",
       "         3.40327169e-01,  2.95163585e-01,  3.10455192e-01,  2.58534851e-01,\n",
       "         2.85561878e-01,  3.24324324e-01,  4.16785206e-01,  5.19914651e-01,\n",
       "         4.43100996e-01,  4.48435277e-01,  4.23186344e-01,  4.97510669e-01,\n",
       "         5.78591750e-01,  4.84352774e-01,  1.05263158e-01,  8.03698435e-02,\n",
       "         2.04125178e-01,  2.74893314e-01,  2.22617354e-01,  8.17923186e-02,\n",
       "         7.82361309e-02,  1.13086771e-01,  1.01351351e-01,  1.44025605e-01,\n",
       "         1.42603129e-01,  3.34637269e-01,  2.44665718e-01,  2.70625889e-01,\n",
       "         3.10455192e-01,  2.96941679e-01,  1.72475107e-01,  1.00640114e-01,\n",
       "         4.19630156e-02,  1.36201991e-01,  8.57041252e-02,  1.57539118e-01,\n",
       "         1.51849218e-01,  1.56827881e-01,  6.93456615e-02,  1.09886202e-01,\n",
       "         1.14864865e-01,  4.90753912e-02,  1.20199147e-01,  1.49359886e-01,\n",
       "        -3.98293030e-02, -6.04551920e-03, -1.63584637e-02,  4.12517781e-02,\n",
       "         1.67140825e-02,  2.52489331e-02,  2.20483642e-02, -8.96159317e-02,\n",
       "        -6.04551920e-02, -1.67852063e-01,  2.34708393e-02, -2.31152205e-02,\n",
       "        -6.04551920e-02, -1.13086771e-01, -1.90967283e-01, -1.52560455e-01,\n",
       "        -2.07681366e-01, -3.89402560e-01, -3.27169275e-01, -3.89758179e-01,\n",
       "        -3.89046942e-01, -3.44950213e-01, -2.77382646e-01, -3.71621622e-01,\n",
       "        -4.46301565e-01, -5.24537696e-01, -5.57965861e-01, -4.89687055e-01,\n",
       "        -5.60455192e-01, -6.87411095e-01, -7.15504979e-01, -7.21550498e-01,\n",
       "        -7.80583215e-01, -7.93029872e-01, -7.93741110e-01, -8.49928876e-01,\n",
       "        -7.29018492e-01, -5.73613087e-01, -7.45732575e-01, -8.31436700e-01,\n",
       "        -7.01991465e-01, -6.75320057e-01, -7.87339972e-01, -7.69914651e-01,\n",
       "        -8.41038407e-01, -8.25391181e-01, -8.33570413e-01, -8.37482219e-01,\n",
       "        -1.00000000e+00, -9.25675676e-01, -8.45661451e-01, -8.49573257e-01]))"
      ]
     },
     "execution_count": 15,
     "metadata": {},
     "output_type": "execute_result"
    }
   ],
   "source": [
    "X_test, y_test"
   ]
  },
  {
   "cell_type": "markdown",
   "metadata": {},
   "source": [
    "We have less data in the testing dataset. Let us split some data from the training dataset and add it to the test dataset."
   ]
  },
  {
   "cell_type": "code",
   "execution_count": 16,
   "metadata": {},
   "outputs": [
    {
     "data": {
      "text/plain": [
       "6183"
      ]
     },
     "execution_count": 16,
     "metadata": {},
     "output_type": "execute_result"
    }
   ],
   "source": [
    "split_index = int(len(X_train)*0.95)\n",
    "split_index"
   ]
  },
  {
   "cell_type": "code",
   "execution_count": 17,
   "metadata": {},
   "outputs": [
    {
     "data": {
      "text/plain": [
       "((6183, 7),\n",
       " (326, 7),\n",
       " (6183,),\n",
       " (326,),\n",
       " array([[0.88833832, 0.86703009, 0.84602214, ..., 0.81255847, 0.85785047,\n",
       "         0.81019275],\n",
       "        [0.86703009, 0.84602214, 0.81766298, ..., 0.85785047, 0.81019381,\n",
       "         0.82248768],\n",
       "        [0.84602214, 0.81766298, 0.81255847, ..., 0.81019381, 0.82248867,\n",
       "         0.79097548],\n",
       "        ...,\n",
       "        [0.05779984, 0.05158   , 0.0506149 , ..., 0.07431453, 0.09308121,\n",
       "         0.10690997],\n",
       "        [0.05158   , 0.0506149 , 0.04203581, ..., 0.09308121, 0.10691495,\n",
       "         0.09747299],\n",
       "        [0.0506149 , 0.04203581, 0.07431453, ..., 0.10691495, 0.09747802,\n",
       "         0.11398769]]),\n",
       " array([ 0.82248768,  0.79097548,  0.82677192,  0.83342069,  0.83375842,\n",
       "         0.81875569,  0.82938842,  0.81373165,  0.80776378,  0.78709344,\n",
       "         0.82663775,  0.79572625,  0.76178508,  0.74995667,  0.74244999,\n",
       "         0.73099679,  0.77256263,  0.77090044,  0.72808003,  0.73798885,\n",
       "         0.70345255,  0.67537207,  0.62570442,  0.52892686,  0.54931297,\n",
       "         0.50043337,  0.48849239,  0.49669615,  0.54324315,  0.60324868,\n",
       "         0.62062131,  0.6143908 ,  0.48820293,  0.68974743,  0.69292175,\n",
       "         0.73021937,  0.72781723,  0.70437478,  0.64314152,  0.66323275,\n",
       "         0.67764019,  0.69469112,  0.6577152 ,  0.63572058,  0.6099403 ,\n",
       "         0.55234772,  0.62238544,  0.64844979,  0.64603162,  0.62006904,\n",
       "         0.62983321,  0.58528615,  0.56107706,  0.4732699 ,  0.45784352,\n",
       "         0.49285175,  0.5736937 ,  0.55982773,  0.52045491,  0.57958106,\n",
       "         0.64110936,  0.68545254,  0.72847145,  0.73105587,  0.76749033,\n",
       "         0.75160823,  0.75419805,  0.76625162,  0.81147417,  0.81495415,\n",
       "         0.7826323 ,  0.747206  ,  0.75323818,  0.80456802,  0.75854645,\n",
       "         0.70172065,  0.69130243,  0.6556562 ,  0.61985452,  0.61626751,\n",
       "         0.66724341,  0.62612266,  0.63768844,  0.69485197,  0.65069647,\n",
       "         0.58954895,  0.54723253,  0.56572049,  0.49405281,  0.48092679,\n",
       "         0.54987587,  0.33202031,  0.33436345,  0.33172004,  0.34968248,\n",
       "         0.24757507,  0.2300469 ,  0.16588058,  0.16663126,  0.1292371 ,\n",
       "         0.1459502 ,  0.21162865,  0.18755891,  0.23643834,  0.14790202,\n",
       "         0.15011647,  0.1530334 ,  0.15266874,  0.11559628,  0.1442827 ,\n",
       "         0.19042216,  0.23405764,  0.28835268,  0.30416498,  0.34520532,\n",
       "         0.31130709,  0.33747339,  0.31827763,  0.29876017,  0.24481908,\n",
       "         0.17511386,  0.11098501,  0.09640053,  0.15388053,  0.11087784,\n",
       "         0.13833094,  0.16471167,  0.16760709,  0.20503348,  0.24814345,\n",
       "         0.2133981 ,  0.15098513,  0.16728538,  0.13822368,  0.17414866,\n",
       "         0.21640077,  0.22530161,  0.24674937,  0.2382775 ,  0.19763398,\n",
       "         0.17050258,  0.18315677,  0.1856232 ,  0.216937  ,  0.219189  ,\n",
       "         0.26691024,  0.31581111,  0.33575752,  0.31205776,  0.2983312 ,\n",
       "         0.23044903,  0.29650817,  0.31055643,  0.44642796,  0.45114649,\n",
       "         0.43795617,  0.49543617,  0.52814404,  0.50916273,  0.49425654,\n",
       "         0.47731279,  0.52943085,  0.50744686,  0.5386534 ,  0.53468545,\n",
       "         0.55184373,  0.5231038 ,  0.52524855,  0.48160228,  0.4278757 ,\n",
       "         0.43216518,  0.43409557,  0.47141463,  0.4013877 ,  0.3910927 ,\n",
       "         0.37972542,  0.35870663,  0.36996673,  0.36664235,  0.35162891,\n",
       "         0.38776833,  0.39141457,  0.42841192,  0.46251378,  0.35924285,\n",
       "         0.3777952 ,  0.35345195,  0.32396128,  0.33607932,  0.30959131,\n",
       "         0.27044914,  0.25725873,  0.21940345,  0.2340952 ,  0.22615955,\n",
       "         0.26476549,  0.23034185,  0.21103883,  0.24192357,  0.29779498,\n",
       "         0.29629365,  0.28932319,  0.22776806,  0.21822381,  0.20256696,\n",
       "         0.20996647,  0.2059986 ,  0.14562319,  0.21951071,  0.24707108,\n",
       "         0.23323726,  0.23516756,  0.27881375,  0.28417569,  0.2925403 ,\n",
       "         0.2395644 ,  0.18916211,  0.10819687,  0.09779468,  0.03720475,\n",
       "        -0.01287575, -0.04311709, -0.02510097, -0.02992676, -0.03582485,\n",
       "        -0.07700459,  0.03548888,  0.08010027,  0.05543531,  0.0602611 ,\n",
       "         0.04074365,  0.01640039,  0.00878644, -0.00922967, -0.00129402,\n",
       "         0.00867918,  0.00095807,  0.00674889, -0.00965864,  0.03452378,\n",
       "         0.02337093,  0.00867918, -0.02477927, -0.0543772 , -0.05212519,\n",
       "        -0.03185707, -0.04536918, -0.02971224, -0.00890797, -0.01866666,\n",
       "        -0.05223245, -0.0585595 , -0.09008774, -0.08719225, -0.07024857,\n",
       "        -0.10220569, -0.08654884, -0.1102486 , -0.12333175, -0.09802339,\n",
       "        -0.09995369, -0.08043623, -0.08772847, -0.10939067, -0.077648  ,\n",
       "        -0.06392144, -0.03700448,  0.0189741 ,  0.02090441,  0.05146753,\n",
       "         0.0292691 ,  0.02294197,  0.00385347,  0.04213772,  0.04503314,\n",
       "         0.03216451,  0.04138705,  0.06326378,  0.09564986,  0.07752656,\n",
       "         0.1051941 ,  0.1268564 ,  0.21007373,  0.10798233,  0.09500645,\n",
       "         0.09425579,  0.07216462,  0.05275434,  0.04599833,  0.06669542,\n",
       "         0.0684112 ,  0.08406814,  0.05178924,  0.0416015 ,  0.01350498,\n",
       "         0.02648087,  0.02680257,  0.00192317,  0.0047114 ,  0.00975164,\n",
       "        -0.01233961, -0.01276858,  0.01693663,  0.00460414,  0.0024594 ,\n",
       "         0.00642718, -0.01148168, -0.02778194, -0.00955138,  0.01672209,\n",
       "         0.03087762,  0.07205736,  0.06036829,  0.0470707 ,  0.07816997,\n",
       "         0.05768732,  0.05779458,  0.0515747 ,  0.0506096 ,  0.04203046,\n",
       "         0.07430936,  0.09307615,  0.10690997,  0.09747299,  0.11398769,\n",
       "         0.08342464]))"
      ]
     },
     "execution_count": 17,
     "metadata": {},
     "output_type": "execute_result"
    }
   ],
   "source": [
    "X_test_split_from_train = X_train[split_index:]\n",
    "X_train = X_train[:split_index]\n",
    "\n",
    "y_test_split_from_train = y_train[split_index:]\n",
    "y_train = y_train[:split_index]\n",
    "\n",
    "X_train.shape, X_test_split_from_train.shape, y_train.shape, y_test_split_from_train.shape, X_test_split_from_train, y_test_split_from_train"
   ]
  },
  {
   "cell_type": "markdown",
   "metadata": {},
   "source": [
    "Concating the original test dataset with the cropped train dataset, while ensuring that the dates are sorted in the new test dataset."
   ]
  },
  {
   "cell_type": "code",
   "execution_count": 18,
   "metadata": {},
   "outputs": [
    {
     "data": {
      "text/plain": [
       "((518, 7),\n",
       " array([[ 0.88833832,  0.86703009,  0.84602214, ...,  0.81255847,\n",
       "          0.85785047,  0.81019275],\n",
       "        [ 0.86703009,  0.84602214,  0.81766298, ...,  0.85785047,\n",
       "          0.81019381,  0.82248768],\n",
       "        [ 0.84602214,  0.81766298,  0.81255847, ...,  0.81019381,\n",
       "          0.82248867,  0.79097548],\n",
       "        ...,\n",
       "        [-0.93394633, -0.91555639, -0.99058912, ..., -0.83679163,\n",
       "         -0.84062772, -1.        ],\n",
       "        [-0.91555639, -0.99061738, -0.97402597, ..., -0.84062772,\n",
       "         -1.        , -0.92711421],\n",
       "        [-0.99061738, -0.97410396, -0.98268398, ..., -1.        ,\n",
       "         -0.92711421, -0.84864865]]))"
      ]
     },
     "execution_count": 18,
     "metadata": {},
     "output_type": "execute_result"
    }
   ],
   "source": [
    "X_test = np.insert(X_test, 0, X_test_split_from_train, axis=0)\n",
    "X_test.shape, X_test"
   ]
  },
  {
   "cell_type": "code",
   "execution_count": 19,
   "metadata": {},
   "outputs": [
    {
     "data": {
      "text/plain": [
       "((518,),\n",
       " array([ 8.22487679e-01,  7.90975483e-01,  8.26771923e-01,  8.33420686e-01,\n",
       "         8.33758423e-01,  8.18755694e-01,  8.29388421e-01,  8.13731653e-01,\n",
       "         8.07763781e-01,  7.87093438e-01,  8.26637746e-01,  7.95726248e-01,\n",
       "         7.61785082e-01,  7.49956674e-01,  7.42449990e-01,  7.30996790e-01,\n",
       "         7.72562635e-01,  7.70900444e-01,  7.28080034e-01,  7.37988846e-01,\n",
       "         7.03452547e-01,  6.75372068e-01,  6.25704417e-01,  5.28926859e-01,\n",
       "         5.49312966e-01,  5.00433371e-01,  4.88492395e-01,  4.96696152e-01,\n",
       "         5.43243153e-01,  6.03248677e-01,  6.20621309e-01,  6.14390799e-01,\n",
       "         4.88202925e-01,  6.89747429e-01,  6.92921751e-01,  7.30219373e-01,\n",
       "         7.27817235e-01,  7.04374779e-01,  6.43141521e-01,  6.63232753e-01,\n",
       "         6.77640190e-01,  6.94691116e-01,  6.57715199e-01,  6.35720575e-01,\n",
       "         6.09940303e-01,  5.52347717e-01,  6.22385441e-01,  6.48449788e-01,\n",
       "         6.46031618e-01,  6.20069040e-01,  6.29833208e-01,  5.85286146e-01,\n",
       "         5.61077062e-01,  4.73269901e-01,  4.57843524e-01,  4.92851748e-01,\n",
       "         5.73693696e-01,  5.59827730e-01,  5.20454908e-01,  5.79581063e-01,\n",
       "         6.41109357e-01,  6.85452536e-01,  7.28471445e-01,  7.31055868e-01,\n",
       "         7.67490325e-01,  7.51608227e-01,  7.54198055e-01,  7.66251621e-01,\n",
       "         8.11474169e-01,  8.14954154e-01,  7.82632304e-01,  7.47205999e-01,\n",
       "         7.53238181e-01,  8.04568022e-01,  7.58546448e-01,  7.01720651e-01,\n",
       "         6.91302434e-01,  6.55656204e-01,  6.19854520e-01,  6.16267510e-01,\n",
       "         6.67243409e-01,  6.26122660e-01,  6.37688439e-01,  6.94851974e-01,\n",
       "         6.50696473e-01,  5.89548953e-01,  5.47232533e-01,  5.65720491e-01,\n",
       "         4.94052812e-01,  4.80926794e-01,  5.49875873e-01,  3.32020305e-01,\n",
       "         3.34363451e-01,  3.31720036e-01,  3.49682482e-01,  2.47575069e-01,\n",
       "         2.30046898e-01,  1.65880584e-01,  1.66631256e-01,  1.29237097e-01,\n",
       "         1.45950199e-01,  2.11628645e-01,  1.87558907e-01,  2.36438341e-01,\n",
       "         1.47902021e-01,  1.50116470e-01,  1.53033397e-01,  1.52668742e-01,\n",
       "         1.15596279e-01,  1.44282700e-01,  1.90422162e-01,  2.34057640e-01,\n",
       "         2.88352677e-01,  3.04164984e-01,  3.45205315e-01,  3.11307088e-01,\n",
       "         3.37473387e-01,  3.18277631e-01,  2.98760170e-01,  2.44819075e-01,\n",
       "         1.75113855e-01,  1.10985010e-01,  9.64005334e-02,  1.53880530e-01,\n",
       "         1.10877836e-01,  1.38330936e-01,  1.64711670e-01,  1.67607086e-01,\n",
       "         2.05033480e-01,  2.48143446e-01,  2.13398096e-01,  1.50985125e-01,\n",
       "         1.67285380e-01,  1.38223676e-01,  1.74148663e-01,  2.16400772e-01,\n",
       "         2.25301614e-01,  2.46749373e-01,  2.38277498e-01,  1.97633982e-01,\n",
       "         1.70502576e-01,  1.83156765e-01,  1.85623204e-01,  2.16936998e-01,\n",
       "         2.19189002e-01,  2.66910236e-01,  3.15811107e-01,  3.35757524e-01,\n",
       "         3.12057760e-01,  2.98331204e-01,  2.30449033e-01,  2.96508166e-01,\n",
       "         3.10556427e-01,  4.46427965e-01,  4.51146493e-01,  4.37956175e-01,\n",
       "         4.95436171e-01,  5.28144037e-01,  5.09162727e-01,  4.94256545e-01,\n",
       "         4.77312793e-01,  5.29430849e-01,  5.07446863e-01,  5.38653397e-01,\n",
       "         5.34685454e-01,  5.51843726e-01,  5.23103803e-01,  5.25248547e-01,\n",
       "         4.81602280e-01,  4.27875695e-01,  4.32165183e-01,  4.34095567e-01,\n",
       "         4.71414627e-01,  4.01387701e-01,  3.91092701e-01,  3.79725421e-01,\n",
       "         3.58706627e-01,  3.69966733e-01,  3.66642352e-01,  3.51628909e-01,\n",
       "         3.87768331e-01,  3.91414568e-01,  4.28411922e-01,  4.62513785e-01,\n",
       "         3.59242853e-01,  3.77795197e-01,  3.53451947e-01,  3.23961277e-01,\n",
       "         3.36079315e-01,  3.09591310e-01,  2.70449137e-01,  2.57258733e-01,\n",
       "         2.19403447e-01,  2.34095195e-01,  2.26159545e-01,  2.64765492e-01,\n",
       "         2.30341848e-01,  2.11038832e-01,  2.41923574e-01,  2.97794978e-01,\n",
       "         2.96293645e-01,  2.89323188e-01,  2.27768063e-01,  2.18223810e-01,\n",
       "         2.02566956e-01,  2.09966465e-01,  2.05998597e-01,  1.45623185e-01,\n",
       "         2.19510708e-01,  2.47071079e-01,  2.33237263e-01,  2.35167562e-01,\n",
       "         2.78813753e-01,  2.84175693e-01,  2.92540298e-01,  2.39564395e-01,\n",
       "         1.89162106e-01,  1.08196866e-01,  9.77946807e-02,  3.72047482e-02,\n",
       "        -1.28757498e-02, -4.31170913e-02, -2.51009730e-02, -2.99267619e-02,\n",
       "        -3.58248529e-02, -7.70045949e-02,  3.54888845e-02,  8.01002681e-02,\n",
       "         5.54353120e-02,  6.02611008e-02,  4.07436500e-02,  1.64003889e-02,\n",
       "         8.78644483e-03, -9.22967351e-03, -1.29402379e-03,  8.67918458e-03,\n",
       "         9.58066074e-04,  6.74888619e-03, -9.65863944e-03,  3.45237782e-02,\n",
       "         2.33709323e-02,  8.67918458e-03, -2.47792673e-02, -5.43771975e-02,\n",
       "        -5.21251934e-02, -3.18570710e-02, -4.53691812e-02, -2.97122414e-02,\n",
       "        -8.90796784e-03, -1.86666557e-02, -5.22324536e-02, -5.85594999e-02,\n",
       "        -9.00877392e-02, -8.71922487e-02, -7.02485720e-02, -1.02205691e-01,\n",
       "        -8.65488374e-02, -1.10248601e-01, -1.23331746e-01, -9.80233889e-02,\n",
       "        -9.99536873e-02, -8.04362258e-02, -8.77284749e-02, -1.09390670e-01,\n",
       "        -7.76479955e-02, -6.39214399e-02, -3.70044797e-02,  1.89740986e-02,\n",
       "         2.09044077e-02,  5.14675300e-02,  2.92690985e-02,  2.29419664e-02,\n",
       "         3.85347077e-03,  4.21377223e-02,  4.50331377e-02,  3.21645139e-02,\n",
       "         4.13870507e-02,  6.32637765e-02,  9.56498618e-02,  7.75265583e-02,\n",
       "         1.05194104e-01,  1.26856395e-01,  2.10073725e-01,  1.07982335e-01,\n",
       "         9.50064505e-02,  9.42557896e-02,  7.21646183e-02,  5.27543420e-02,\n",
       "         4.59983298e-02,  6.66954181e-02,  6.84111960e-02,  8.40681358e-02,\n",
       "         5.17892357e-02,  4.16014961e-02,  1.35049842e-02,  2.64808682e-02,\n",
       "         2.68025739e-02,  1.92317238e-03,  4.71140262e-03,  9.75163692e-03,\n",
       "        -1.23396094e-02, -1.27685754e-02,  1.69366258e-02,  4.60414237e-03,\n",
       "         2.45939855e-03,  6.42718051e-03, -1.14816776e-02, -2.77819430e-02,\n",
       "        -9.55137919e-03,  1.67220946e-02,  3.08776161e-02,  7.20573581e-02,\n",
       "         6.03682860e-02,  4.70706963e-02,  7.81699697e-02,  5.76873160e-02,\n",
       "         5.77945763e-02,  5.15747045e-02,  5.06095982e-02,  4.20304620e-02,\n",
       "         7.43093622e-02,  9.30761521e-02,  1.06909968e-01,  9.74729858e-02,\n",
       "         1.13987686e-01,  8.34246387e-02,  9.87908962e-01,  9.03982930e-01,\n",
       "         8.23257468e-01,  6.85988620e-01,  6.62162162e-01,  8.00853485e-01,\n",
       "         8.52773826e-01,  9.24253201e-01,  9.75462304e-01,  9.74039829e-01,\n",
       "         9.76529161e-01,  9.76884780e-01,  9.91820768e-01,  9.30654339e-01,\n",
       "         9.90042674e-01,  1.00000000e+00,  8.54196302e-01,  7.63513514e-01,\n",
       "         8.14011380e-01,  7.65647226e-01,  7.09103841e-01,  7.63513514e-01,\n",
       "         7.44310100e-01,  6.60384068e-01,  7.44310100e-01,  6.71763869e-01,\n",
       "         7.49644381e-01,  7.16216216e-01,  7.24395448e-01,  7.49644381e-01,\n",
       "         7.74537696e-01,  7.39331437e-01,  7.38264580e-01,  6.38335704e-01,\n",
       "         7.17638691e-01,  6.83854908e-01,  6.00284495e-01,  6.13442390e-01,\n",
       "         7.05903272e-01,  5.91749644e-01,  6.26244666e-01,  5.20981508e-01,\n",
       "         5.73613087e-01,  5.96017070e-01,  4.90398293e-01,  4.49857752e-01,\n",
       "         4.31009957e-01,  3.92958748e-01,  2.53911807e-01,  2.40398293e-01,\n",
       "         6.36557610e-02, -2.26884780e-01, -1.62162162e-01,  9.28165007e-02,\n",
       "         2.16927454e-02, -2.77382646e-02,  8.71266003e-02,  7.75248933e-02,\n",
       "         1.96301565e-01,  2.34708393e-01,  1.36557610e-01,  2.26884780e-01,\n",
       "         2.09103841e-01,  1.25533428e-01,  8.21479374e-02,  7.14793741e-02,\n",
       "         3.55618777e-04,  3.73399716e-02, -4.37411095e-02,  1.24822191e-01,\n",
       "         4.16073969e-02,  1.06685633e-03,  1.06685633e-03,  1.06685633e-03,\n",
       "         1.89189189e-01,  1.12731152e-01,  1.20199147e-01,  3.32147937e-01,\n",
       "         4.15362731e-01,  4.98933144e-01,  5.13513514e-01,  6.67496444e-01,\n",
       "         6.72119488e-01,  5.43385491e-01,  6.09886202e-01,  4.36699858e-01,\n",
       "         4.23186344e-01,  3.34637269e-01,  4.02560455e-01,  4.32788051e-01,\n",
       "         4.28876245e-01,  3.24324324e-01,  3.18634424e-01,  2.55689900e-01,\n",
       "         2.59957326e-01,  2.09459459e-01,  3.40327169e-01,  2.95163585e-01,\n",
       "         3.10455192e-01,  2.58534851e-01,  2.85561878e-01,  3.24324324e-01,\n",
       "         4.16785206e-01,  5.19914651e-01,  4.43100996e-01,  4.48435277e-01,\n",
       "         4.23186344e-01,  4.97510669e-01,  5.78591750e-01,  4.84352774e-01,\n",
       "         1.05263158e-01,  8.03698435e-02,  2.04125178e-01,  2.74893314e-01,\n",
       "         2.22617354e-01,  8.17923186e-02,  7.82361309e-02,  1.13086771e-01,\n",
       "         1.01351351e-01,  1.44025605e-01,  1.42603129e-01,  3.34637269e-01,\n",
       "         2.44665718e-01,  2.70625889e-01,  3.10455192e-01,  2.96941679e-01,\n",
       "         1.72475107e-01,  1.00640114e-01,  4.19630156e-02,  1.36201991e-01,\n",
       "         8.57041252e-02,  1.57539118e-01,  1.51849218e-01,  1.56827881e-01,\n",
       "         6.93456615e-02,  1.09886202e-01,  1.14864865e-01,  4.90753912e-02,\n",
       "         1.20199147e-01,  1.49359886e-01, -3.98293030e-02, -6.04551920e-03,\n",
       "        -1.63584637e-02,  4.12517781e-02,  1.67140825e-02,  2.52489331e-02,\n",
       "         2.20483642e-02, -8.96159317e-02, -6.04551920e-02, -1.67852063e-01,\n",
       "         2.34708393e-02, -2.31152205e-02, -6.04551920e-02, -1.13086771e-01,\n",
       "        -1.90967283e-01, -1.52560455e-01, -2.07681366e-01, -3.89402560e-01,\n",
       "        -3.27169275e-01, -3.89758179e-01, -3.89046942e-01, -3.44950213e-01,\n",
       "        -2.77382646e-01, -3.71621622e-01, -4.46301565e-01, -5.24537696e-01,\n",
       "        -5.57965861e-01, -4.89687055e-01, -5.60455192e-01, -6.87411095e-01,\n",
       "        -7.15504979e-01, -7.21550498e-01, -7.80583215e-01, -7.93029872e-01,\n",
       "        -7.93741110e-01, -8.49928876e-01, -7.29018492e-01, -5.73613087e-01,\n",
       "        -7.45732575e-01, -8.31436700e-01, -7.01991465e-01, -6.75320057e-01,\n",
       "        -7.87339972e-01, -7.69914651e-01, -8.41038407e-01, -8.25391181e-01,\n",
       "        -8.33570413e-01, -8.37482219e-01, -1.00000000e+00, -9.25675676e-01,\n",
       "        -8.45661451e-01, -8.49573257e-01]))"
      ]
     },
     "execution_count": 19,
     "metadata": {},
     "output_type": "execute_result"
    }
   ],
   "source": [
    "y_test = np.insert(y_test, 0, y_test_split_from_train, axis=0)\n",
    "y_test.shape, y_test"
   ]
  },
  {
   "cell_type": "code",
   "execution_count": 20,
   "metadata": {},
   "outputs": [
    {
     "data": {
      "text/plain": [
       "((6183, 7, 1), (518, 7, 1), (6183, 1), (518, 1))"
      ]
     },
     "execution_count": 20,
     "metadata": {},
     "output_type": "execute_result"
    }
   ],
   "source": [
    "X_train = X_train.reshape((-1, lookback, 1))\n",
    "X_test = X_test.reshape((-1, lookback, 1))\n",
    "\n",
    "y_train = y_train.reshape((-1, 1))\n",
    "y_test = y_test.reshape((-1, 1))\n",
    "\n",
    "X_train.shape, X_test.shape, y_train.shape, y_test.shape"
   ]
  },
  {
   "cell_type": "code",
   "execution_count": 21,
   "metadata": {},
   "outputs": [
    {
     "data": {
      "text/plain": [
       "(torch.Size([6183, 7, 1]),\n",
       " torch.Size([518, 7, 1]),\n",
       " torch.Size([6183, 1]),\n",
       " torch.Size([518, 1]))"
      ]
     },
     "execution_count": 21,
     "metadata": {},
     "output_type": "execute_result"
    }
   ],
   "source": [
    "X_train = torch.tensor(X_train).float()\n",
    "y_train = torch.tensor(y_train).float()\n",
    "X_test = torch.tensor(X_test).float()\n",
    "y_test = torch.tensor(y_test).float()\n",
    "\n",
    "X_train.shape, X_test.shape, y_train.shape, y_test.shape"
   ]
  },
  {
   "cell_type": "code",
   "execution_count": 22,
   "metadata": {},
   "outputs": [],
   "source": [
    "from torch.utils.data import Dataset\n",
    "\n",
    "class TimeSeriesDataset(Dataset):\n",
    "    def __init__(self, X, y):\n",
    "        self.X = X\n",
    "        self.y = y\n",
    "    \n",
    "    def __len__(self):\n",
    "        return len(self.X)\n",
    "    \n",
    "    def __getitem__(self, i):\n",
    "        return self.X[i], self.y[i]\n",
    "\n",
    "train_dataset = TimeSeriesDataset(X_train, y_train)\n",
    "test_dataset = TimeSeriesDataset(X_test, y_test)"
   ]
  },
  {
   "cell_type": "code",
   "execution_count": 23,
   "metadata": {},
   "outputs": [
    {
     "data": {
      "text/plain": [
       "<__main__.TimeSeriesDataset at 0x2268a7f3c40>"
      ]
     },
     "execution_count": 23,
     "metadata": {},
     "output_type": "execute_result"
    }
   ],
   "source": [
    "train_dataset"
   ]
  },
  {
   "cell_type": "code",
   "execution_count": 24,
   "metadata": {},
   "outputs": [],
   "source": [
    "from torch.utils.data import DataLoader\n",
    "\n",
    "batch_size = 16\n",
    "\n",
    "train_loader = DataLoader(train_dataset, batch_size = batch_size, shuffle=True)\n",
    "test_loader = DataLoader(test_dataset, batch_size=batch_size, shuffle=False)"
   ]
  },
  {
   "cell_type": "code",
   "execution_count": 25,
   "metadata": {},
   "outputs": [
    {
     "name": "stdout",
     "output_type": "stream",
     "text": [
      "torch.Size([16, 7, 1]) torch.Size([16, 1])\n"
     ]
    }
   ],
   "source": [
    "for _, batch in enumerate(train_loader):\n",
    "    x_batch, y_batch = batch[0].to(device), batch[1].to(device)\n",
    "    print(x_batch.shape, y_batch.shape)\n",
    "    break"
   ]
  },
  {
   "cell_type": "code",
   "execution_count": 26,
   "metadata": {},
   "outputs": [
    {
     "data": {
      "text/plain": [
       "LSTM(\n",
       "  (lstm): LSTM(1, 4, batch_first=True)\n",
       "  (fc): Linear(in_features=4, out_features=1, bias=True)\n",
       ")"
      ]
     },
     "execution_count": 26,
     "metadata": {},
     "output_type": "execute_result"
    }
   ],
   "source": [
    "class LSTM(nn.Module):\n",
    "    def __init__(self, input_size, hidden_size, num_stacked_layers):\n",
    "        super().__init__()\n",
    "        self.hidden_size = hidden_size\n",
    "        self.num_stacked_layers = num_stacked_layers\n",
    "        \n",
    "        self.lstm = nn.LSTM(input_size, hidden_size, num_stacked_layers, batch_first=True)\n",
    "        self.fc = nn.Linear(hidden_size, 1)\n",
    "        \n",
    "    def forward(self, x):\n",
    "        batch_size = x.size(0)\n",
    "        h0 = torch.zeroes(self.num_stacked_layers, batch_size, self.hidden_size).to(device)\n",
    "        c0 = torch.zeroes(self.num_stacked_layers, batch_size, self.hidden_size).to(device)\n",
    "        \n",
    "        out, _ = self.lstm(x, (h0, c0))\n",
    "        out = self.fc(out[:, -1, :])\n",
    "        return out\n",
    "\n",
    "model = LSTM(1, 4, 1)\n",
    "model.to(device)\n",
    "model"
   ]
  },
  {
   "cell_type": "code",
   "execution_count": null,
   "metadata": {},
   "outputs": [],
   "source": []
  }
 ],
 "metadata": {
  "kernelspec": {
   "display_name": "Python 3",
   "language": "python",
   "name": "python3"
  },
  "language_info": {
   "codemirror_mode": {
    "name": "ipython",
    "version": 3
   },
   "file_extension": ".py",
   "mimetype": "text/x-python",
   "name": "python",
   "nbconvert_exporter": "python",
   "pygments_lexer": "ipython3",
   "version": "3.10.13"
  }
 },
 "nbformat": 4,
 "nbformat_minor": 2
}
