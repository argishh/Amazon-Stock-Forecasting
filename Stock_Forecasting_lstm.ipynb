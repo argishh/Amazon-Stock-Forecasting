{
 "cells": [
  {
   "cell_type": "markdown",
   "metadata": {},
   "source": [
    "# Amazon Stock Price Forecasting - using LSTM\n",
    "\n",
    "In this project, we will use lstm to predict future stock prices of amazon (AMZN)"
   ]
  },
  {
   "cell_type": "code",
   "execution_count": 114,
   "metadata": {},
   "outputs": [
    {
     "data": {
      "text/html": [
       "<div>\n",
       "<style scoped>\n",
       "    .dataframe tbody tr th:only-of-type {\n",
       "        vertical-align: middle;\n",
       "    }\n",
       "\n",
       "    .dataframe tbody tr th {\n",
       "        vertical-align: top;\n",
       "    }\n",
       "\n",
       "    .dataframe thead th {\n",
       "        text-align: right;\n",
       "    }\n",
       "</style>\n",
       "<table border=\"1\" class=\"dataframe\">\n",
       "  <thead>\n",
       "    <tr style=\"text-align: right;\">\n",
       "      <th></th>\n",
       "      <th>Date</th>\n",
       "      <th>Open</th>\n",
       "      <th>High</th>\n",
       "      <th>Low</th>\n",
       "      <th>Close</th>\n",
       "      <th>Adj Close</th>\n",
       "      <th>Volume</th>\n",
       "    </tr>\n",
       "  </thead>\n",
       "  <tbody>\n",
       "    <tr>\n",
       "      <th>0</th>\n",
       "      <td>1997-05-15</td>\n",
       "      <td>0.121875</td>\n",
       "      <td>0.125000</td>\n",
       "      <td>0.096354</td>\n",
       "      <td>0.097917</td>\n",
       "      <td>0.097917</td>\n",
       "      <td>1443120000</td>\n",
       "    </tr>\n",
       "    <tr>\n",
       "      <th>1</th>\n",
       "      <td>1997-05-16</td>\n",
       "      <td>0.098438</td>\n",
       "      <td>0.098958</td>\n",
       "      <td>0.085417</td>\n",
       "      <td>0.086458</td>\n",
       "      <td>0.086458</td>\n",
       "      <td>294000000</td>\n",
       "    </tr>\n",
       "    <tr>\n",
       "      <th>2</th>\n",
       "      <td>1997-05-19</td>\n",
       "      <td>0.088021</td>\n",
       "      <td>0.088542</td>\n",
       "      <td>0.081250</td>\n",
       "      <td>0.085417</td>\n",
       "      <td>0.085417</td>\n",
       "      <td>122136000</td>\n",
       "    </tr>\n",
       "    <tr>\n",
       "      <th>3</th>\n",
       "      <td>1997-05-20</td>\n",
       "      <td>0.086458</td>\n",
       "      <td>0.087500</td>\n",
       "      <td>0.081771</td>\n",
       "      <td>0.081771</td>\n",
       "      <td>0.081771</td>\n",
       "      <td>109344000</td>\n",
       "    </tr>\n",
       "    <tr>\n",
       "      <th>4</th>\n",
       "      <td>1997-05-21</td>\n",
       "      <td>0.081771</td>\n",
       "      <td>0.082292</td>\n",
       "      <td>0.068750</td>\n",
       "      <td>0.071354</td>\n",
       "      <td>0.071354</td>\n",
       "      <td>377064000</td>\n",
       "    </tr>\n",
       "  </tbody>\n",
       "</table>\n",
       "</div>"
      ],
      "text/plain": [
       "         Date      Open      High       Low     Close  Adj Close      Volume\n",
       "0  1997-05-15  0.121875  0.125000  0.096354  0.097917   0.097917  1443120000\n",
       "1  1997-05-16  0.098438  0.098958  0.085417  0.086458   0.086458   294000000\n",
       "2  1997-05-19  0.088021  0.088542  0.081250  0.085417   0.085417   122136000\n",
       "3  1997-05-20  0.086458  0.087500  0.081771  0.081771   0.081771   109344000\n",
       "4  1997-05-21  0.081771  0.082292  0.068750  0.071354   0.071354   377064000"
      ]
     },
     "execution_count": 114,
     "metadata": {},
     "output_type": "execute_result"
    }
   ],
   "source": [
    "# Importing Required Libraries\n",
    "import pandas as pd\n",
    "import numpy as np\n",
    "import matplotlib.pyplot as plt\n",
    "\n",
    "import torch \n",
    "import torch.nn as nn\n",
    "\n",
    "# Importing Training Dataset\n",
    "train_data = pd.read_csv('./data/AMZN.csv')\n",
    "train_data.head()"
   ]
  },
  {
   "cell_type": "code",
   "execution_count": 115,
   "metadata": {},
   "outputs": [
    {
     "data": {
      "text/html": [
       "<div>\n",
       "<style scoped>\n",
       "    .dataframe tbody tr th:only-of-type {\n",
       "        vertical-align: middle;\n",
       "    }\n",
       "\n",
       "    .dataframe tbody tr th {\n",
       "        vertical-align: top;\n",
       "    }\n",
       "\n",
       "    .dataframe thead th {\n",
       "        text-align: right;\n",
       "    }\n",
       "</style>\n",
       "<table border=\"1\" class=\"dataframe\">\n",
       "  <thead>\n",
       "    <tr style=\"text-align: right;\">\n",
       "      <th></th>\n",
       "      <th>Date</th>\n",
       "      <th>Open</th>\n",
       "      <th>High</th>\n",
       "      <th>Low</th>\n",
       "      <th>Close</th>\n",
       "      <th>Volume</th>\n",
       "    </tr>\n",
       "  </thead>\n",
       "  <tbody>\n",
       "    <tr>\n",
       "      <th>0</th>\n",
       "      <td>01/22/2024</td>\n",
       "      <td>156.89</td>\n",
       "      <td>157.05</td>\n",
       "      <td>153.90</td>\n",
       "      <td>154.78</td>\n",
       "      <td>43,687,473</td>\n",
       "    </tr>\n",
       "    <tr>\n",
       "      <th>1</th>\n",
       "      <td>01/19/2024</td>\n",
       "      <td>153.83</td>\n",
       "      <td>155.76</td>\n",
       "      <td>152.74</td>\n",
       "      <td>155.34</td>\n",
       "      <td>51,651,633</td>\n",
       "    </tr>\n",
       "    <tr>\n",
       "      <th>2</th>\n",
       "      <td>01/18/2024</td>\n",
       "      <td>152.77</td>\n",
       "      <td>153.78</td>\n",
       "      <td>151.82</td>\n",
       "      <td>153.50</td>\n",
       "      <td>37,850,246</td>\n",
       "    </tr>\n",
       "    <tr>\n",
       "      <th>3</th>\n",
       "      <td>01/17/2024</td>\n",
       "      <td>151.49</td>\n",
       "      <td>152.15</td>\n",
       "      <td>149.91</td>\n",
       "      <td>151.71</td>\n",
       "      <td>34,953,359</td>\n",
       "    </tr>\n",
       "    <tr>\n",
       "      <th>4</th>\n",
       "      <td>01/16/2024</td>\n",
       "      <td>153.53</td>\n",
       "      <td>154.99</td>\n",
       "      <td>152.15</td>\n",
       "      <td>153.16</td>\n",
       "      <td>41,384,641</td>\n",
       "    </tr>\n",
       "  </tbody>\n",
       "</table>\n",
       "</div>"
      ],
      "text/plain": [
       "         Date    Open    High     Low   Close      Volume\n",
       "0  01/22/2024  156.89  157.05  153.90  154.78  43,687,473\n",
       "1  01/19/2024  153.83  155.76  152.74  155.34  51,651,633\n",
       "2  01/18/2024  152.77  153.78  151.82  153.50  37,850,246\n",
       "3  01/17/2024  151.49  152.15  149.91  151.71  34,953,359\n",
       "4  01/16/2024  153.53  154.99  152.15  153.16  41,384,641"
      ]
     },
     "execution_count": 115,
     "metadata": {},
     "output_type": "execute_result"
    }
   ],
   "source": [
    "# Importing Testing Dataset\n",
    "test_data = pd.read_csv('./data/STOCK_US_XNAS_AMZN.csv')\n",
    "test_data.head()"
   ]
  },
  {
   "cell_type": "markdown",
   "metadata": {},
   "source": [
    "# Preprocessing the data.\n",
    "\n",
    "In cases where stock prices are to be predicted from previous patterns, all that matters is the `date` and `close`.\n",
    "\n",
    "Therefore, we will only keep `Date` and `Close` columns and drop all the other."
   ]
  },
  {
   "cell_type": "code",
   "execution_count": 116,
   "metadata": {},
   "outputs": [
    {
     "data": {
      "text/html": [
       "<div>\n",
       "<style scoped>\n",
       "    .dataframe tbody tr th:only-of-type {\n",
       "        vertical-align: middle;\n",
       "    }\n",
       "\n",
       "    .dataframe tbody tr th {\n",
       "        vertical-align: top;\n",
       "    }\n",
       "\n",
       "    .dataframe thead th {\n",
       "        text-align: right;\n",
       "    }\n",
       "</style>\n",
       "<table border=\"1\" class=\"dataframe\">\n",
       "  <thead>\n",
       "    <tr style=\"text-align: right;\">\n",
       "      <th></th>\n",
       "      <th>Date</th>\n",
       "      <th>Close</th>\n",
       "    </tr>\n",
       "  </thead>\n",
       "  <tbody>\n",
       "    <tr>\n",
       "      <th>0</th>\n",
       "      <td>1997-05-15</td>\n",
       "      <td>0.097917</td>\n",
       "    </tr>\n",
       "    <tr>\n",
       "      <th>1</th>\n",
       "      <td>1997-05-16</td>\n",
       "      <td>0.086458</td>\n",
       "    </tr>\n",
       "    <tr>\n",
       "      <th>2</th>\n",
       "      <td>1997-05-19</td>\n",
       "      <td>0.085417</td>\n",
       "    </tr>\n",
       "    <tr>\n",
       "      <th>3</th>\n",
       "      <td>1997-05-20</td>\n",
       "      <td>0.081771</td>\n",
       "    </tr>\n",
       "    <tr>\n",
       "      <th>4</th>\n",
       "      <td>1997-05-21</td>\n",
       "      <td>0.071354</td>\n",
       "    </tr>\n",
       "  </tbody>\n",
       "</table>\n",
       "</div>"
      ],
      "text/plain": [
       "         Date     Close\n",
       "0  1997-05-15  0.097917\n",
       "1  1997-05-16  0.086458\n",
       "2  1997-05-19  0.085417\n",
       "3  1997-05-20  0.081771\n",
       "4  1997-05-21  0.071354"
      ]
     },
     "execution_count": 116,
     "metadata": {},
     "output_type": "execute_result"
    }
   ],
   "source": [
    "train_data = train_data[['Date', 'Close']]\n",
    "train_data.head()"
   ]
  },
  {
   "cell_type": "code",
   "execution_count": 117,
   "metadata": {},
   "outputs": [
    {
     "data": {
      "text/html": [
       "<div>\n",
       "<style scoped>\n",
       "    .dataframe tbody tr th:only-of-type {\n",
       "        vertical-align: middle;\n",
       "    }\n",
       "\n",
       "    .dataframe tbody tr th {\n",
       "        vertical-align: top;\n",
       "    }\n",
       "\n",
       "    .dataframe thead th {\n",
       "        text-align: right;\n",
       "    }\n",
       "</style>\n",
       "<table border=\"1\" class=\"dataframe\">\n",
       "  <thead>\n",
       "    <tr style=\"text-align: right;\">\n",
       "      <th></th>\n",
       "      <th>Date</th>\n",
       "      <th>Close</th>\n",
       "    </tr>\n",
       "  </thead>\n",
       "  <tbody>\n",
       "    <tr>\n",
       "      <th>0</th>\n",
       "      <td>01/22/2024</td>\n",
       "      <td>154.78</td>\n",
       "    </tr>\n",
       "    <tr>\n",
       "      <th>1</th>\n",
       "      <td>01/19/2024</td>\n",
       "      <td>155.34</td>\n",
       "    </tr>\n",
       "    <tr>\n",
       "      <th>2</th>\n",
       "      <td>01/18/2024</td>\n",
       "      <td>153.50</td>\n",
       "    </tr>\n",
       "    <tr>\n",
       "      <th>3</th>\n",
       "      <td>01/17/2024</td>\n",
       "      <td>151.71</td>\n",
       "    </tr>\n",
       "    <tr>\n",
       "      <th>4</th>\n",
       "      <td>01/16/2024</td>\n",
       "      <td>153.16</td>\n",
       "    </tr>\n",
       "  </tbody>\n",
       "</table>\n",
       "</div>"
      ],
      "text/plain": [
       "         Date   Close\n",
       "0  01/22/2024  154.78\n",
       "1  01/19/2024  155.34\n",
       "2  01/18/2024  153.50\n",
       "3  01/17/2024  151.71\n",
       "4  01/16/2024  153.16"
      ]
     },
     "execution_count": 117,
     "metadata": {},
     "output_type": "execute_result"
    }
   ],
   "source": [
    "test_data = test_data[['Date', 'Close']]\n",
    "test_data.head()"
   ]
  },
  {
   "cell_type": "markdown",
   "metadata": {},
   "source": [
    "Selecting `GPU` if available for accelerated model training. "
   ]
  },
  {
   "cell_type": "code",
   "execution_count": 118,
   "metadata": {},
   "outputs": [
    {
     "data": {
      "text/plain": [
       "'cuda:0'"
      ]
     },
     "execution_count": 118,
     "metadata": {},
     "output_type": "execute_result"
    }
   ],
   "source": [
    "device = 'cuda:0' if torch.cuda.is_available() else 'cpu'\n",
    "device"
   ]
  },
  {
   "cell_type": "markdown",
   "metadata": {},
   "source": [
    "Converting Date column from `string` datatype into `datetime` datatype"
   ]
  },
  {
   "cell_type": "code",
   "execution_count": 119,
   "metadata": {},
   "outputs": [
    {
     "data": {
      "text/plain": [
       "[<matplotlib.lines.Line2D at 0x29937f79240>]"
      ]
     },
     "execution_count": 119,
     "metadata": {},
     "output_type": "execute_result"
    },
    {
     "data": {
      "image/png": "[encoded data removed]",
      "text/plain": [
       "<Figure size 640x480 with 1 Axes>"
      ]
     },
     "metadata": {},
     "output_type": "display_data"
    }
   ],
   "source": [
    "train_data['Date'] = pd.to_datetime(train_data['Date'])\n",
    "\n",
    "plt.plot(train_data['Date'], train_data['Close'])"
   ]
  },
  {
   "cell_type": "code",
   "execution_count": 120,
   "metadata": {},
   "outputs": [
    {
     "data": {
      "text/plain": [
       "[<matplotlib.lines.Line2D at 0x299391792d0>]"
      ]
     },
     "execution_count": 120,
     "metadata": {},
     "output_type": "execute_result"
    },
    {
     "data": {
      "image/png": "[encoded data removed]",
      "text/plain": [
       "<Figure size 640x480 with 1 Axes>"
      ]
     },
     "metadata": {},
     "output_type": "display_data"
    }
   ],
   "source": [
    "test_data['Date'] = pd.to_datetime(test_data['Date'])\n",
    "\n",
    "plt.plot(test_data['Date'], test_data['Close'])"
   ]
  },
  {
   "cell_type": "markdown",
   "metadata": {},
   "source": [
    "Now, as we know we only need `previous close values` and the `date` to predict future values, \n",
    "we will simplify the process for us by creating columns for past close values. \n",
    "\n",
    "These columns will each hold close values of previous days, upto however many days we want. Let us try and test performance of the model with 7 previous days' worth of values. The model will be trained on these 7 values (`X`) to predict the actual close value (`y`). "
   ]
  },
  {
   "cell_type": "code",
   "execution_count": 121,
   "metadata": {},
   "outputs": [
    {
     "data": {
      "text/html": [
       "<div>\n",
       "<style scoped>\n",
       "    .dataframe tbody tr th:only-of-type {\n",
       "        vertical-align: middle;\n",
       "    }\n",
       "\n",
       "    .dataframe tbody tr th {\n",
       "        vertical-align: top;\n",
       "    }\n",
       "\n",
       "    .dataframe thead th {\n",
       "        text-align: right;\n",
       "    }\n",
       "</style>\n",
       "<table border=\"1\" class=\"dataframe\">\n",
       "  <thead>\n",
       "    <tr style=\"text-align: right;\">\n",
       "      <th></th>\n",
       "      <th>Close</th>\n",
       "      <th>Close(t-1)</th>\n",
       "      <th>Close(t-2)</th>\n",
       "      <th>Close(t-3)</th>\n",
       "      <th>Close(t-4)</th>\n",
       "      <th>Close(t-5)</th>\n",
       "      <th>Close(t-6)</th>\n",
       "      <th>Close(t-7)</th>\n",
       "    </tr>\n",
       "    <tr>\n",
       "      <th>Date</th>\n",
       "      <th></th>\n",
       "      <th></th>\n",
       "      <th></th>\n",
       "      <th></th>\n",
       "      <th></th>\n",
       "      <th></th>\n",
       "      <th></th>\n",
       "      <th></th>\n",
       "    </tr>\n",
       "  </thead>\n",
       "  <tbody>\n",
       "    <tr>\n",
       "      <th>1997-05-27</th>\n",
       "      <td>0.079167</td>\n",
       "      <td>0.075000</td>\n",
       "      <td>0.069792</td>\n",
       "      <td>0.071354</td>\n",
       "      <td>0.081771</td>\n",
       "      <td>0.085417</td>\n",
       "      <td>0.086458</td>\n",
       "      <td>0.097917</td>\n",
       "    </tr>\n",
       "    <tr>\n",
       "      <th>1997-05-28</th>\n",
       "      <td>0.076563</td>\n",
       "      <td>0.079167</td>\n",
       "      <td>0.075000</td>\n",
       "      <td>0.069792</td>\n",
       "      <td>0.071354</td>\n",
       "      <td>0.081771</td>\n",
       "      <td>0.085417</td>\n",
       "      <td>0.086458</td>\n",
       "    </tr>\n",
       "    <tr>\n",
       "      <th>1997-05-29</th>\n",
       "      <td>0.075260</td>\n",
       "      <td>0.076563</td>\n",
       "      <td>0.079167</td>\n",
       "      <td>0.075000</td>\n",
       "      <td>0.069792</td>\n",
       "      <td>0.071354</td>\n",
       "      <td>0.081771</td>\n",
       "      <td>0.085417</td>\n",
       "    </tr>\n",
       "    <tr>\n",
       "      <th>1997-05-30</th>\n",
       "      <td>0.075000</td>\n",
       "      <td>0.075260</td>\n",
       "      <td>0.076563</td>\n",
       "      <td>0.079167</td>\n",
       "      <td>0.075000</td>\n",
       "      <td>0.069792</td>\n",
       "      <td>0.071354</td>\n",
       "      <td>0.081771</td>\n",
       "    </tr>\n",
       "    <tr>\n",
       "      <th>1997-06-02</th>\n",
       "      <td>0.075521</td>\n",
       "      <td>0.075000</td>\n",
       "      <td>0.075260</td>\n",
       "      <td>0.076563</td>\n",
       "      <td>0.079167</td>\n",
       "      <td>0.075000</td>\n",
       "      <td>0.069792</td>\n",
       "      <td>0.071354</td>\n",
       "    </tr>\n",
       "  </tbody>\n",
       "</table>\n",
       "</div>"
      ],
      "text/plain": [
       "               Close  Close(t-1)  Close(t-2)  Close(t-3)  Close(t-4)  \\\n",
       "Date                                                                   \n",
       "1997-05-27  0.079167    0.075000    0.069792    0.071354    0.081771   \n",
       "1997-05-28  0.076563    0.079167    0.075000    0.069792    0.071354   \n",
       "1997-05-29  0.075260    0.076563    0.079167    0.075000    0.069792   \n",
       "1997-05-30  0.075000    0.075260    0.076563    0.079167    0.075000   \n",
       "1997-06-02  0.075521    0.075000    0.075260    0.076563    0.079167   \n",
       "\n",
       "            Close(t-5)  Close(t-6)  Close(t-7)  \n",
       "Date                                            \n",
       "1997-05-27    0.085417    0.086458    0.097917  \n",
       "1997-05-28    0.081771    0.085417    0.086458  \n",
       "1997-05-29    0.071354    0.081771    0.085417  \n",
       "1997-05-30    0.069792    0.071354    0.081771  \n",
       "1997-06-02    0.075000    0.069792    0.071354  "
      ]
     },
     "execution_count": 121,
     "metadata": {},
     "output_type": "execute_result"
    }
   ],
   "source": [
    "from copy import deepcopy as dc\n",
    "\n",
    "def prepare_daraframe_for_lstm(df, n_steps):\n",
    "    df = dc(df)\n",
    "    df.set_index('Date', inplace = True)\n",
    "    \n",
    "    for i in range(1, n_steps+1):\n",
    "        df[f'Close(t-{i})'] = df['Close'].shift(i)\n",
    "    \n",
    "    df.dropna(inplace = True)\n",
    "    \n",
    "    return df\n",
    "\n",
    "lookback = 7\n",
    "train_df = prepare_daraframe_for_lstm(train_data, lookback)\n",
    "train_df.head()"
   ]
  },
  {
   "cell_type": "code",
   "execution_count": 122,
   "metadata": {},
   "outputs": [
    {
     "data": {
      "text/html": [
       "<div>\n",
       "<style scoped>\n",
       "    .dataframe tbody tr th:only-of-type {\n",
       "        vertical-align: middle;\n",
       "    }\n",
       "\n",
       "    .dataframe tbody tr th {\n",
       "        vertical-align: top;\n",
       "    }\n",
       "\n",
       "    .dataframe thead th {\n",
       "        text-align: right;\n",
       "    }\n",
       "</style>\n",
       "<table border=\"1\" class=\"dataframe\">\n",
       "  <thead>\n",
       "    <tr style=\"text-align: right;\">\n",
       "      <th></th>\n",
       "      <th>Close</th>\n",
       "      <th>Close(t-1)</th>\n",
       "      <th>Close(t-2)</th>\n",
       "      <th>Close(t-3)</th>\n",
       "      <th>Close(t-4)</th>\n",
       "      <th>Close(t-5)</th>\n",
       "      <th>Close(t-6)</th>\n",
       "      <th>Close(t-7)</th>\n",
       "    </tr>\n",
       "    <tr>\n",
       "      <th>Date</th>\n",
       "      <th></th>\n",
       "      <th></th>\n",
       "      <th></th>\n",
       "      <th></th>\n",
       "      <th></th>\n",
       "      <th></th>\n",
       "      <th></th>\n",
       "      <th></th>\n",
       "    </tr>\n",
       "  </thead>\n",
       "  <tbody>\n",
       "    <tr>\n",
       "      <th>2024-01-10</th>\n",
       "      <td>153.73</td>\n",
       "      <td>155.18</td>\n",
       "      <td>154.62</td>\n",
       "      <td>153.16</td>\n",
       "      <td>151.71</td>\n",
       "      <td>153.50</td>\n",
       "      <td>155.34</td>\n",
       "      <td>154.78</td>\n",
       "    </tr>\n",
       "    <tr>\n",
       "      <th>2024-01-09</th>\n",
       "      <td>151.37</td>\n",
       "      <td>153.73</td>\n",
       "      <td>155.18</td>\n",
       "      <td>154.62</td>\n",
       "      <td>153.16</td>\n",
       "      <td>151.71</td>\n",
       "      <td>153.50</td>\n",
       "      <td>155.34</td>\n",
       "    </tr>\n",
       "    <tr>\n",
       "      <th>2024-01-08</th>\n",
       "      <td>149.10</td>\n",
       "      <td>151.37</td>\n",
       "      <td>153.73</td>\n",
       "      <td>155.18</td>\n",
       "      <td>154.62</td>\n",
       "      <td>153.16</td>\n",
       "      <td>151.71</td>\n",
       "      <td>153.50</td>\n",
       "    </tr>\n",
       "    <tr>\n",
       "      <th>2024-01-05</th>\n",
       "      <td>145.24</td>\n",
       "      <td>149.10</td>\n",
       "      <td>151.37</td>\n",
       "      <td>153.73</td>\n",
       "      <td>155.18</td>\n",
       "      <td>154.62</td>\n",
       "      <td>153.16</td>\n",
       "      <td>151.71</td>\n",
       "    </tr>\n",
       "    <tr>\n",
       "      <th>2024-01-04</th>\n",
       "      <td>144.57</td>\n",
       "      <td>145.24</td>\n",
       "      <td>149.10</td>\n",
       "      <td>151.37</td>\n",
       "      <td>153.73</td>\n",
       "      <td>155.18</td>\n",
       "      <td>154.62</td>\n",
       "      <td>153.16</td>\n",
       "    </tr>\n",
       "  </tbody>\n",
       "</table>\n",
       "</div>"
      ],
      "text/plain": [
       "             Close  Close(t-1)  Close(t-2)  Close(t-3)  Close(t-4)  \\\n",
       "Date                                                                 \n",
       "2024-01-10  153.73      155.18      154.62      153.16      151.71   \n",
       "2024-01-09  151.37      153.73      155.18      154.62      153.16   \n",
       "2024-01-08  149.10      151.37      153.73      155.18      154.62   \n",
       "2024-01-05  145.24      149.10      151.37      153.73      155.18   \n",
       "2024-01-04  144.57      145.24      149.10      151.37      153.73   \n",
       "\n",
       "            Close(t-5)  Close(t-6)  Close(t-7)  \n",
       "Date                                            \n",
       "2024-01-10      153.50      155.34      154.78  \n",
       "2024-01-09      151.71      153.50      155.34  \n",
       "2024-01-08      153.16      151.71      153.50  \n",
       "2024-01-05      154.62      153.16      151.71  \n",
       "2024-01-04      155.18      154.62      153.16  "
      ]
     },
     "execution_count": 122,
     "metadata": {},
     "output_type": "execute_result"
    }
   ],
   "source": [
    "test_df = prepare_daraframe_for_lstm(test_data, lookback)\n",
    "test_df.head()"
   ]
  },
  {
   "cell_type": "code",
   "execution_count": 123,
   "metadata": {},
   "outputs": [
    {
     "data": {
      "text/plain": [
       "array([[-0.99991063, -0.99995531, -1.        , ..., -0.99983244,\n",
       "        -0.99982128, -0.99969839],\n",
       "       [-0.99993855, -0.99991063, -0.99994415, ..., -0.99987154,\n",
       "        -0.99983244, -0.99982128],\n",
       "       [-0.99995253, -0.99993855, -0.99989946, ..., -0.99998325,\n",
       "        -0.99987154, -0.99983244],\n",
       "       ...,\n",
       "       [ 0.09747299,  0.10690997,  0.09308121, ...,  0.0506149 ,\n",
       "         0.05158   ,  0.05779984],\n",
       "       [ 0.11398769,  0.09747299,  0.10691495, ...,  0.04203581,\n",
       "         0.0506149 ,  0.05158   ],\n",
       "       [ 0.08342464,  0.11398769,  0.09747802, ...,  0.07431453,\n",
       "         0.04203581,  0.0506149 ]])"
      ]
     },
     "execution_count": 123,
     "metadata": {},
     "output_type": "execute_result"
    }
   ],
   "source": [
    "# scaling the data\n",
    "from sklearn.preprocessing import MinMaxScaler\n",
    "\n",
    "scaler = MinMaxScaler(feature_range=(-1, 1))\n",
    "train_df_as_np = scaler.fit_transform(train_df)\n",
    "\n",
    "train_df_as_np"
   ]
  },
  {
   "cell_type": "code",
   "execution_count": 124,
   "metadata": {},
   "outputs": [
    {
     "data": {
      "text/plain": [
       "array([[ 0.98790896,  1.        ,  0.98047079, ...,  0.93675889,\n",
       "         1.        ,  0.97898292],\n",
       "       [ 0.90398293,  0.9494333 ,  1.        , ...,  0.869377  ,\n",
       "         0.93094389,  1.        ],\n",
       "       [ 0.82325747,  0.86713165,  0.9494333 , ...,  0.9239601 ,\n",
       "         0.86376431,  0.93094389],\n",
       "       ...,\n",
       "       [-0.92567568, -1.        , -0.84062772, ..., -0.99058912,\n",
       "        -0.91555639, -0.93394633],\n",
       "       [-0.84566145, -0.92711421, -1.        , ..., -0.97402597,\n",
       "        -0.99061738, -0.91555639],\n",
       "       [-0.84957326, -0.84864865, -0.92711421, ..., -0.98268398,\n",
       "        -0.97410396, -0.99061738]])"
      ]
     },
     "execution_count": 124,
     "metadata": {},
     "output_type": "execute_result"
    }
   ],
   "source": [
    "test_df_as_np = scaler.fit_transform(test_df)\n",
    "test_df_as_np"
   ]
  },
  {
   "cell_type": "code",
   "execution_count": 125,
   "metadata": {},
   "outputs": [
    {
     "data": {
      "text/plain": [
       "((6509, 7), (6509,))"
      ]
     },
     "execution_count": 125,
     "metadata": {},
     "output_type": "execute_result"
    }
   ],
   "source": [
    "X_train = train_df_as_np[:, 1:]\n",
    "X_train = dc(np.flip(X_train, axis = 1))\n",
    "\n",
    "y_train = train_df_as_np[:, 0]\n",
    "\n",
    "X_train.shape, y_train.shape"
   ]
  },
  {
   "cell_type": "code",
   "execution_count": 126,
   "metadata": {},
   "outputs": [
    {
     "data": {
      "text/plain": [
       "(array([[-0.99969839, -0.99982128, -0.99983244, ..., -0.99998325,\n",
       "         -1.        , -0.99995531],\n",
       "        [-0.99982128, -0.99983244, -0.99987154, ..., -1.        ,\n",
       "         -0.99994415, -0.99991063],\n",
       "        [-0.99983244, -0.99987154, -0.99998325, ..., -0.99994415,\n",
       "         -0.99989946, -0.99993855],\n",
       "        ...,\n",
       "        [ 0.05779984,  0.05158   ,  0.0506149 , ...,  0.07431453,\n",
       "          0.09308121,  0.10690997],\n",
       "        [ 0.05158   ,  0.0506149 ,  0.04203581, ...,  0.09308121,\n",
       "          0.10691495,  0.09747299],\n",
       "        [ 0.0506149 ,  0.04203581,  0.07431453, ...,  0.10691495,\n",
       "          0.09747802,  0.11398769]]),\n",
       " array([-0.99991063, -0.99993855, -0.99995253, ...,  0.09747299,\n",
       "         0.11398769,  0.08342464]))"
      ]
     },
     "execution_count": 126,
     "metadata": {},
     "output_type": "execute_result"
    }
   ],
   "source": [
    "X_train, y_train"
   ]
  },
  {
   "cell_type": "code",
   "execution_count": 127,
   "metadata": {},
   "outputs": [
    {
     "data": {
      "text/plain": [
       "((192, 7), (192,))"
      ]
     },
     "execution_count": 127,
     "metadata": {},
     "output_type": "execute_result"
    }
   ],
   "source": [
    "X_test = test_df_as_np[:, 1:]\n",
    "X_test = dc(np.flip(X_test, axis = 1))\n",
    "\n",
    "y_test = test_df_as_np[:, 0]\n",
    "\n",
    "X_test.shape, y_test.shape"
   ]
  },
  {
   "cell_type": "code",
   "execution_count": 128,
   "metadata": {},
   "outputs": [
    {
     "data": {
      "text/plain": [
       "(array([[ 0.97898292,  1.        ,  0.93675889, ...,  0.92955536,\n",
       "          0.98047079,  1.        ],\n",
       "        [ 1.        ,  0.93094389,  0.869377  , ...,  0.98047079,\n",
       "          1.        ,  0.9494333 ],\n",
       "        [ 0.93094389,  0.86376431,  0.9239601 , ...,  1.        ,\n",
       "          0.9494333 ,  0.86713165],\n",
       "        ...,\n",
       "        [-0.93394633, -0.91555639, -0.99058912, ..., -0.83679163,\n",
       "         -0.84062772, -1.        ],\n",
       "        [-0.91555639, -0.99061738, -0.97402597, ..., -0.84062772,\n",
       "         -1.        , -0.92711421],\n",
       "        [-0.99061738, -0.97410396, -0.98268398, ..., -1.        ,\n",
       "         -0.92711421, -0.84864865]]),\n",
       " array([ 9.87908962e-01,  9.03982930e-01,  8.23257468e-01,  6.85988620e-01,\n",
       "         6.62162162e-01,  8.00853485e-01,  8.52773826e-01,  9.24253201e-01,\n",
       "         9.75462304e-01,  9.74039829e-01,  9.76529161e-01,  9.76884780e-01,\n",
       "         9.91820768e-01,  9.30654339e-01,  9.90042674e-01,  1.00000000e+00,\n",
       "         8.54196302e-01,  7.63513514e-01,  8.14011380e-01,  7.65647226e-01,\n",
       "         7.09103841e-01,  7.63513514e-01,  7.44310100e-01,  6.60384068e-01,\n",
       "         7.44310100e-01,  6.71763869e-01,  7.49644381e-01,  7.16216216e-01,\n",
       "         7.24395448e-01,  7.49644381e-01,  7.74537696e-01,  7.39331437e-01,\n",
       "         7.38264580e-01,  6.38335704e-01,  7.17638691e-01,  6.83854908e-01,\n",
       "         6.00284495e-01,  6.13442390e-01,  7.05903272e-01,  5.91749644e-01,\n",
       "         6.26244666e-01,  5.20981508e-01,  5.73613087e-01,  5.96017070e-01,\n",
       "         4.90398293e-01,  4.49857752e-01,  4.31009957e-01,  3.92958748e-01,\n",
       "         2.53911807e-01,  2.40398293e-01,  6.36557610e-02, -2.26884780e-01,\n",
       "        -1.62162162e-01,  9.28165007e-02,  2.16927454e-02, -2.77382646e-02,\n",
       "         8.71266003e-02,  7.75248933e-02,  1.96301565e-01,  2.34708393e-01,\n",
       "         1.36557610e-01,  2.26884780e-01,  2.09103841e-01,  1.25533428e-01,\n",
       "         8.21479374e-02,  7.14793741e-02,  3.55618777e-04,  3.73399716e-02,\n",
       "        -4.37411095e-02,  1.24822191e-01,  4.16073969e-02,  1.06685633e-03,\n",
       "         1.06685633e-03,  1.06685633e-03,  1.89189189e-01,  1.12731152e-01,\n",
       "         1.20199147e-01,  3.32147937e-01,  4.15362731e-01,  4.98933144e-01,\n",
       "         5.13513514e-01,  6.67496444e-01,  6.72119488e-01,  5.43385491e-01,\n",
       "         6.09886202e-01,  4.36699858e-01,  4.23186344e-01,  3.34637269e-01,\n",
       "         4.02560455e-01,  4.32788051e-01,  4.28876245e-01,  3.24324324e-01,\n",
       "         3.18634424e-01,  2.55689900e-01,  2.59957326e-01,  2.09459459e-01,\n",
       "         3.40327169e-01,  2.95163585e-01,  3.10455192e-01,  2.58534851e-01,\n",
       "         2.85561878e-01,  3.24324324e-01,  4.16785206e-01,  5.19914651e-01,\n",
       "         4.43100996e-01,  4.48435277e-01,  4.23186344e-01,  4.97510669e-01,\n",
       "         5.78591750e-01,  4.84352774e-01,  1.05263158e-01,  8.03698435e-02,\n",
       "         2.04125178e-01,  2.74893314e-01,  2.22617354e-01,  8.17923186e-02,\n",
       "         7.82361309e-02,  1.13086771e-01,  1.01351351e-01,  1.44025605e-01,\n",
       "         1.42603129e-01,  3.34637269e-01,  2.44665718e-01,  2.70625889e-01,\n",
       "         3.10455192e-01,  2.96941679e-01,  1.72475107e-01,  1.00640114e-01,\n",
       "         4.19630156e-02,  1.36201991e-01,  8.57041252e-02,  1.57539118e-01,\n",
       "         1.51849218e-01,  1.56827881e-01,  6.93456615e-02,  1.09886202e-01,\n",
       "         1.14864865e-01,  4.90753912e-02,  1.20199147e-01,  1.49359886e-01,\n",
       "        -3.98293030e-02, -6.04551920e-03, -1.63584637e-02,  4.12517781e-02,\n",
       "         1.67140825e-02,  2.52489331e-02,  2.20483642e-02, -8.96159317e-02,\n",
       "        -6.04551920e-02, -1.67852063e-01,  2.34708393e-02, -2.31152205e-02,\n",
       "        -6.04551920e-02, -1.13086771e-01, -1.90967283e-01, -1.52560455e-01,\n",
       "        -2.07681366e-01, -3.89402560e-01, -3.27169275e-01, -3.89758179e-01,\n",
       "        -3.89046942e-01, -3.44950213e-01, -2.77382646e-01, -3.71621622e-01,\n",
       "        -4.46301565e-01, -5.24537696e-01, -5.57965861e-01, -4.89687055e-01,\n",
       "        -5.60455192e-01, -6.87411095e-01, -7.15504979e-01, -7.21550498e-01,\n",
       "        -7.80583215e-01, -7.93029872e-01, -7.93741110e-01, -8.49928876e-01,\n",
       "        -7.29018492e-01, -5.73613087e-01, -7.45732575e-01, -8.31436700e-01,\n",
       "        -7.01991465e-01, -6.75320057e-01, -7.87339972e-01, -7.69914651e-01,\n",
       "        -8.41038407e-01, -8.25391181e-01, -8.33570413e-01, -8.37482219e-01,\n",
       "        -1.00000000e+00, -9.25675676e-01, -8.45661451e-01, -8.49573257e-01]))"
      ]
     },
     "execution_count": 128,
     "metadata": {},
     "output_type": "execute_result"
    }
   ],
   "source": [
    "X_test, y_test"
   ]
  },
  {
   "cell_type": "markdown",
   "metadata": {},
   "source": [
    "We have less data in the testing dataset. Let us split some data from the training dataset and add it to the test dataset."
   ]
  },
  {
   "cell_type": "code",
   "execution_count": 129,
   "metadata": {},
   "outputs": [
    {
     "data": {
      "text/plain": [
       "6183"
      ]
     },
     "execution_count": 129,
     "metadata": {},
     "output_type": "execute_result"
    }
   ],
   "source": [
    "split_index = int(len(X_train)*0.95)\n",
    "split_index"
   ]
  },
  {
   "cell_type": "code",
   "execution_count": 130,
   "metadata": {},
   "outputs": [
    {
     "data": {
      "text/plain": [
       "((6183, 7),\n",
       " (326, 7),\n",
       " (6183,),\n",
       " (326,),\n",
       " array([[0.88833832, 0.86703009, 0.84602214, ..., 0.81255847, 0.85785047,\n",
       "         0.81019275],\n",
       "        [0.86703009, 0.84602214, 0.81766298, ..., 0.85785047, 0.81019381,\n",
       "         0.82248768],\n",
       "        [0.84602214, 0.81766298, 0.81255847, ..., 0.81019381, 0.82248867,\n",
       "         0.79097548],\n",
       "        ...,\n",
       "        [0.05779984, 0.05158   , 0.0506149 , ..., 0.07431453, 0.09308121,\n",
       "         0.10690997],\n",
       "        [0.05158   , 0.0506149 , 0.04203581, ..., 0.09308121, 0.10691495,\n",
       "         0.09747299],\n",
       "        [0.0506149 , 0.04203581, 0.07431453, ..., 0.10691495, 0.09747802,\n",
       "         0.11398769]]),\n",
       " array([ 0.82248768,  0.79097548,  0.82677192,  0.83342069,  0.83375842,\n",
       "         0.81875569,  0.82938842,  0.81373165,  0.80776378,  0.78709344,\n",
       "         0.82663775,  0.79572625,  0.76178508,  0.74995667,  0.74244999,\n",
       "         0.73099679,  0.77256263,  0.77090044,  0.72808003,  0.73798885,\n",
       "         0.70345255,  0.67537207,  0.62570442,  0.52892686,  0.54931297,\n",
       "         0.50043337,  0.48849239,  0.49669615,  0.54324315,  0.60324868,\n",
       "         0.62062131,  0.6143908 ,  0.48820293,  0.68974743,  0.69292175,\n",
       "         0.73021937,  0.72781723,  0.70437478,  0.64314152,  0.66323275,\n",
       "         0.67764019,  0.69469112,  0.6577152 ,  0.63572058,  0.6099403 ,\n",
       "         0.55234772,  0.62238544,  0.64844979,  0.64603162,  0.62006904,\n",
       "         0.62983321,  0.58528615,  0.56107706,  0.4732699 ,  0.45784352,\n",
       "         0.49285175,  0.5736937 ,  0.55982773,  0.52045491,  0.57958106,\n",
       "         0.64110936,  0.68545254,  0.72847145,  0.73105587,  0.76749033,\n",
       "         0.75160823,  0.75419805,  0.76625162,  0.81147417,  0.81495415,\n",
       "         0.7826323 ,  0.747206  ,  0.75323818,  0.80456802,  0.75854645,\n",
       "         0.70172065,  0.69130243,  0.6556562 ,  0.61985452,  0.61626751,\n",
       "         0.66724341,  0.62612266,  0.63768844,  0.69485197,  0.65069647,\n",
       "         0.58954895,  0.54723253,  0.56572049,  0.49405281,  0.48092679,\n",
       "         0.54987587,  0.33202031,  0.33436345,  0.33172004,  0.34968248,\n",
       "         0.24757507,  0.2300469 ,  0.16588058,  0.16663126,  0.1292371 ,\n",
       "         0.1459502 ,  0.21162865,  0.18755891,  0.23643834,  0.14790202,\n",
       "         0.15011647,  0.1530334 ,  0.15266874,  0.11559628,  0.1442827 ,\n",
       "         0.19042216,  0.23405764,  0.28835268,  0.30416498,  0.34520532,\n",
       "         0.31130709,  0.33747339,  0.31827763,  0.29876017,  0.24481908,\n",
       "         0.17511386,  0.11098501,  0.09640053,  0.15388053,  0.11087784,\n",
       "         0.13833094,  0.16471167,  0.16760709,  0.20503348,  0.24814345,\n",
       "         0.2133981 ,  0.15098513,  0.16728538,  0.13822368,  0.17414866,\n",
       "         0.21640077,  0.22530161,  0.24674937,  0.2382775 ,  0.19763398,\n",
       "         0.17050258,  0.18315677,  0.1856232 ,  0.216937  ,  0.219189  ,\n",
       "         0.26691024,  0.31581111,  0.33575752,  0.31205776,  0.2983312 ,\n",
       "         0.23044903,  0.29650817,  0.31055643,  0.44642796,  0.45114649,\n",
       "         0.43795617,  0.49543617,  0.52814404,  0.50916273,  0.49425654,\n",
       "         0.47731279,  0.52943085,  0.50744686,  0.5386534 ,  0.53468545,\n",
       "         0.55184373,  0.5231038 ,  0.52524855,  0.48160228,  0.4278757 ,\n",
       "         0.43216518,  0.43409557,  0.47141463,  0.4013877 ,  0.3910927 ,\n",
       "         0.37972542,  0.35870663,  0.36996673,  0.36664235,  0.35162891,\n",
       "         0.38776833,  0.39141457,  0.42841192,  0.46251378,  0.35924285,\n",
       "         0.3777952 ,  0.35345195,  0.32396128,  0.33607932,  0.30959131,\n",
       "         0.27044914,  0.25725873,  0.21940345,  0.2340952 ,  0.22615955,\n",
       "         0.26476549,  0.23034185,  0.21103883,  0.24192357,  0.29779498,\n",
       "         0.29629365,  0.28932319,  0.22776806,  0.21822381,  0.20256696,\n",
       "         0.20996647,  0.2059986 ,  0.14562319,  0.21951071,  0.24707108,\n",
       "         0.23323726,  0.23516756,  0.27881375,  0.28417569,  0.2925403 ,\n",
       "         0.2395644 ,  0.18916211,  0.10819687,  0.09779468,  0.03720475,\n",
       "        -0.01287575, -0.04311709, -0.02510097, -0.02992676, -0.03582485,\n",
       "        -0.07700459,  0.03548888,  0.08010027,  0.05543531,  0.0602611 ,\n",
       "         0.04074365,  0.01640039,  0.00878644, -0.00922967, -0.00129402,\n",
       "         0.00867918,  0.00095807,  0.00674889, -0.00965864,  0.03452378,\n",
       "         0.02337093,  0.00867918, -0.02477927, -0.0543772 , -0.05212519,\n",
       "        -0.03185707, -0.04536918, -0.02971224, -0.00890797, -0.01866666,\n",
       "        -0.05223245, -0.0585595 , -0.09008774, -0.08719225, -0.07024857,\n",
       "        -0.10220569, -0.08654884, -0.1102486 , -0.12333175, -0.09802339,\n",
       "        -0.09995369, -0.08043623, -0.08772847, -0.10939067, -0.077648  ,\n",
       "        -0.06392144, -0.03700448,  0.0189741 ,  0.02090441,  0.05146753,\n",
       "         0.0292691 ,  0.02294197,  0.00385347,  0.04213772,  0.04503314,\n",
       "         0.03216451,  0.04138705,  0.06326378,  0.09564986,  0.07752656,\n",
       "         0.1051941 ,  0.1268564 ,  0.21007373,  0.10798233,  0.09500645,\n",
       "         0.09425579,  0.07216462,  0.05275434,  0.04599833,  0.06669542,\n",
       "         0.0684112 ,  0.08406814,  0.05178924,  0.0416015 ,  0.01350498,\n",
       "         0.02648087,  0.02680257,  0.00192317,  0.0047114 ,  0.00975164,\n",
       "        -0.01233961, -0.01276858,  0.01693663,  0.00460414,  0.0024594 ,\n",
       "         0.00642718, -0.01148168, -0.02778194, -0.00955138,  0.01672209,\n",
       "         0.03087762,  0.07205736,  0.06036829,  0.0470707 ,  0.07816997,\n",
       "         0.05768732,  0.05779458,  0.0515747 ,  0.0506096 ,  0.04203046,\n",
       "         0.07430936,  0.09307615,  0.10690997,  0.09747299,  0.11398769,\n",
       "         0.08342464]))"
      ]
     },
     "execution_count": 130,
     "metadata": {},
     "output_type": "execute_result"
    }
   ],
   "source": [
    "X_test_split_from_train = X_train[split_index:]\n",
    "X_train = X_train[:split_index]\n",
    "\n",
    "y_test_split_from_train = y_train[split_index:]\n",
    "y_train = y_train[:split_index]\n",
    "\n",
    "X_train.shape, X_test_split_from_train.shape, y_train.shape, y_test_split_from_train.shape, X_test_split_from_train, y_test_split_from_train"
   ]
  },
  {
   "cell_type": "markdown",
   "metadata": {},
   "source": [
    "Concating the original test dataset with the cropped train dataset, while ensuring that the dates are sorted in the new test dataset."
   ]
  },
  {
   "cell_type": "code",
   "execution_count": 131,
   "metadata": {},
   "outputs": [
    {
     "data": {
      "text/plain": [
       "((518, 7),\n",
       " array([[ 0.88833832,  0.86703009,  0.84602214, ...,  0.81255847,\n",
       "          0.85785047,  0.81019275],\n",
       "        [ 0.86703009,  0.84602214,  0.81766298, ...,  0.85785047,\n",
       "          0.81019381,  0.82248768],\n",
       "        [ 0.84602214,  0.81766298,  0.81255847, ...,  0.81019381,\n",
       "          0.82248867,  0.79097548],\n",
       "        ...,\n",
       "        [-0.93394633, -0.91555639, -0.99058912, ..., -0.83679163,\n",
       "         -0.84062772, -1.        ],\n",
       "        [-0.91555639, -0.99061738, -0.97402597, ..., -0.84062772,\n",
       "         -1.        , -0.92711421],\n",
       "        [-0.99061738, -0.97410396, -0.98268398, ..., -1.        ,\n",
       "         -0.92711421, -0.84864865]]))"
      ]
     },
     "execution_count": 131,
     "metadata": {},
     "output_type": "execute_result"
    }
   ],
   "source": [
    "X_test = np.insert(X_test, 0, X_test_split_from_train, axis=0)\n",
    "X_test.shape, X_test"
   ]
  },
  {
   "cell_type": "code",
   "execution_count": 132,
   "metadata": {},
   "outputs": [
    {
     "data": {
      "text/plain": [
       "((518,),\n",
       " array([ 8.22487679e-01,  7.90975483e-01,  8.26771923e-01,  8.33420686e-01,\n",
       "         8.33758423e-01,  8.18755694e-01,  8.29388421e-01,  8.13731653e-01,\n",
       "         8.07763781e-01,  7.87093438e-01,  8.26637746e-01,  7.95726248e-01,\n",
       "         7.61785082e-01,  7.49956674e-01,  7.42449990e-01,  7.30996790e-01,\n",
       "         7.72562635e-01,  7.70900444e-01,  7.28080034e-01,  7.37988846e-01,\n",
       "         7.03452547e-01,  6.75372068e-01,  6.25704417e-01,  5.28926859e-01,\n",
       "         5.49312966e-01,  5.00433371e-01,  4.88492395e-01,  4.96696152e-01,\n",
       "         5.43243153e-01,  6.03248677e-01,  6.20621309e-01,  6.14390799e-01,\n",
       "         4.88202925e-01,  6.89747429e-01,  6.92921751e-01,  7.30219373e-01,\n",
       "         7.27817235e-01,  7.04374779e-01,  6.43141521e-01,  6.63232753e-01,\n",
       "         6.77640190e-01,  6.94691116e-01,  6.57715199e-01,  6.35720575e-01,\n",
       "         6.09940303e-01,  5.52347717e-01,  6.22385441e-01,  6.48449788e-01,\n",
       "         6.46031618e-01,  6.20069040e-01,  6.29833208e-01,  5.85286146e-01,\n",
       "         5.61077062e-01,  4.73269901e-01,  4.57843524e-01,  4.92851748e-01,\n",
       "         5.73693696e-01,  5.59827730e-01,  5.20454908e-01,  5.79581063e-01,\n",
       "         6.41109357e-01,  6.85452536e-01,  7.28471445e-01,  7.31055868e-01,\n",
       "         7.67490325e-01,  7.51608227e-01,  7.54198055e-01,  7.66251621e-01,\n",
       "         8.11474169e-01,  8.14954154e-01,  7.82632304e-01,  7.47205999e-01,\n",
       "         7.53238181e-01,  8.04568022e-01,  7.58546448e-01,  7.01720651e-01,\n",
       "         6.91302434e-01,  6.55656204e-01,  6.19854520e-01,  6.16267510e-01,\n",
       "         6.67243409e-01,  6.26122660e-01,  6.37688439e-01,  6.94851974e-01,\n",
       "         6.50696473e-01,  5.89548953e-01,  5.47232533e-01,  5.65720491e-01,\n",
       "         4.94052812e-01,  4.80926794e-01,  5.49875873e-01,  3.32020305e-01,\n",
       "         3.34363451e-01,  3.31720036e-01,  3.49682482e-01,  2.47575069e-01,\n",
       "         2.30046898e-01,  1.65880584e-01,  1.66631256e-01,  1.29237097e-01,\n",
       "         1.45950199e-01,  2.11628645e-01,  1.87558907e-01,  2.36438341e-01,\n",
       "         1.47902021e-01,  1.50116470e-01,  1.53033397e-01,  1.52668742e-01,\n",
       "         1.15596279e-01,  1.44282700e-01,  1.90422162e-01,  2.34057640e-01,\n",
       "         2.88352677e-01,  3.04164984e-01,  3.45205315e-01,  3.11307088e-01,\n",
       "         3.37473387e-01,  3.18277631e-01,  2.98760170e-01,  2.44819075e-01,\n",
       "         1.75113855e-01,  1.10985010e-01,  9.64005334e-02,  1.53880530e-01,\n",
       "         1.10877836e-01,  1.38330936e-01,  1.64711670e-01,  1.67607086e-01,\n",
       "         2.05033480e-01,  2.48143446e-01,  2.13398096e-01,  1.50985125e-01,\n",
       "         1.67285380e-01,  1.38223676e-01,  1.74148663e-01,  2.16400772e-01,\n",
       "         2.25301614e-01,  2.46749373e-01,  2.38277498e-01,  1.97633982e-01,\n",
       "         1.70502576e-01,  1.83156765e-01,  1.85623204e-01,  2.16936998e-01,\n",
       "         2.19189002e-01,  2.66910236e-01,  3.15811107e-01,  3.35757524e-01,\n",
       "         3.12057760e-01,  2.98331204e-01,  2.30449033e-01,  2.96508166e-01,\n",
       "         3.10556427e-01,  4.46427965e-01,  4.51146493e-01,  4.37956175e-01,\n",
       "         4.95436171e-01,  5.28144037e-01,  5.09162727e-01,  4.94256545e-01,\n",
       "         4.77312793e-01,  5.29430849e-01,  5.07446863e-01,  5.38653397e-01,\n",
       "         5.34685454e-01,  5.51843726e-01,  5.23103803e-01,  5.25248547e-01,\n",
       "         4.81602280e-01,  4.27875695e-01,  4.32165183e-01,  4.34095567e-01,\n",
       "         4.71414627e-01,  4.01387701e-01,  3.91092701e-01,  3.79725421e-01,\n",
       "         3.58706627e-01,  3.69966733e-01,  3.66642352e-01,  3.51628909e-01,\n",
       "         3.87768331e-01,  3.91414568e-01,  4.28411922e-01,  4.62513785e-01,\n",
       "         3.59242853e-01,  3.77795197e-01,  3.53451947e-01,  3.23961277e-01,\n",
       "         3.36079315e-01,  3.09591310e-01,  2.70449137e-01,  2.57258733e-01,\n",
       "         2.19403447e-01,  2.34095195e-01,  2.26159545e-01,  2.64765492e-01,\n",
       "         2.30341848e-01,  2.11038832e-01,  2.41923574e-01,  2.97794978e-01,\n",
       "         2.96293645e-01,  2.89323188e-01,  2.27768063e-01,  2.18223810e-01,\n",
       "         2.02566956e-01,  2.09966465e-01,  2.05998597e-01,  1.45623185e-01,\n",
       "         2.19510708e-01,  2.47071079e-01,  2.33237263e-01,  2.35167562e-01,\n",
       "         2.78813753e-01,  2.84175693e-01,  2.92540298e-01,  2.39564395e-01,\n",
       "         1.89162106e-01,  1.08196866e-01,  9.77946807e-02,  3.72047482e-02,\n",
       "        -1.28757498e-02, -4.31170913e-02, -2.51009730e-02, -2.99267619e-02,\n",
       "        -3.58248529e-02, -7.70045949e-02,  3.54888845e-02,  8.01002681e-02,\n",
       "         5.54353120e-02,  6.02611008e-02,  4.07436500e-02,  1.64003889e-02,\n",
       "         8.78644483e-03, -9.22967351e-03, -1.29402379e-03,  8.67918458e-03,\n",
       "         9.58066074e-04,  6.74888619e-03, -9.65863944e-03,  3.45237782e-02,\n",
       "         2.33709323e-02,  8.67918458e-03, -2.47792673e-02, -5.43771975e-02,\n",
       "        -5.21251934e-02, -3.18570710e-02, -4.53691812e-02, -2.97122414e-02,\n",
       "        -8.90796784e-03, -1.86666557e-02, -5.22324536e-02, -5.85594999e-02,\n",
       "        -9.00877392e-02, -8.71922487e-02, -7.02485720e-02, -1.02205691e-01,\n",
       "        -8.65488374e-02, -1.10248601e-01, -1.23331746e-01, -9.80233889e-02,\n",
       "        -9.99536873e-02, -8.04362258e-02, -8.77284749e-02, -1.09390670e-01,\n",
       "        -7.76479955e-02, -6.39214399e-02, -3.70044797e-02,  1.89740986e-02,\n",
       "         2.09044077e-02,  5.14675300e-02,  2.92690985e-02,  2.29419664e-02,\n",
       "         3.85347077e-03,  4.21377223e-02,  4.50331377e-02,  3.21645139e-02,\n",
       "         4.13870507e-02,  6.32637765e-02,  9.56498618e-02,  7.75265583e-02,\n",
       "         1.05194104e-01,  1.26856395e-01,  2.10073725e-01,  1.07982335e-01,\n",
       "         9.50064505e-02,  9.42557896e-02,  7.21646183e-02,  5.27543420e-02,\n",
       "         4.59983298e-02,  6.66954181e-02,  6.84111960e-02,  8.40681358e-02,\n",
       "         5.17892357e-02,  4.16014961e-02,  1.35049842e-02,  2.64808682e-02,\n",
       "         2.68025739e-02,  1.92317238e-03,  4.71140262e-03,  9.75163692e-03,\n",
       "        -1.23396094e-02, -1.27685754e-02,  1.69366258e-02,  4.60414237e-03,\n",
       "         2.45939855e-03,  6.42718051e-03, -1.14816776e-02, -2.77819430e-02,\n",
       "        -9.55137919e-03,  1.67220946e-02,  3.08776161e-02,  7.20573581e-02,\n",
       "         6.03682860e-02,  4.70706963e-02,  7.81699697e-02,  5.76873160e-02,\n",
       "         5.77945763e-02,  5.15747045e-02,  5.06095982e-02,  4.20304620e-02,\n",
       "         7.43093622e-02,  9.30761521e-02,  1.06909968e-01,  9.74729858e-02,\n",
       "         1.13987686e-01,  8.34246387e-02,  9.87908962e-01,  9.03982930e-01,\n",
       "         8.23257468e-01,  6.85988620e-01,  6.62162162e-01,  8.00853485e-01,\n",
       "         8.52773826e-01,  9.24253201e-01,  9.75462304e-01,  9.74039829e-01,\n",
       "         9.76529161e-01,  9.76884780e-01,  9.91820768e-01,  9.30654339e-01,\n",
       "         9.90042674e-01,  1.00000000e+00,  8.54196302e-01,  7.63513514e-01,\n",
       "         8.14011380e-01,  7.65647226e-01,  7.09103841e-01,  7.63513514e-01,\n",
       "         7.44310100e-01,  6.60384068e-01,  7.44310100e-01,  6.71763869e-01,\n",
       "         7.49644381e-01,  7.16216216e-01,  7.24395448e-01,  7.49644381e-01,\n",
       "         7.74537696e-01,  7.39331437e-01,  7.38264580e-01,  6.38335704e-01,\n",
       "         7.17638691e-01,  6.83854908e-01,  6.00284495e-01,  6.13442390e-01,\n",
       "         7.05903272e-01,  5.91749644e-01,  6.26244666e-01,  5.20981508e-01,\n",
       "         5.73613087e-01,  5.96017070e-01,  4.90398293e-01,  4.49857752e-01,\n",
       "         4.31009957e-01,  3.92958748e-01,  2.53911807e-01,  2.40398293e-01,\n",
       "         6.36557610e-02, -2.26884780e-01, -1.62162162e-01,  9.28165007e-02,\n",
       "         2.16927454e-02, -2.77382646e-02,  8.71266003e-02,  7.75248933e-02,\n",
       "         1.96301565e-01,  2.34708393e-01,  1.36557610e-01,  2.26884780e-01,\n",
       "         2.09103841e-01,  1.25533428e-01,  8.21479374e-02,  7.14793741e-02,\n",
       "         3.55618777e-04,  3.73399716e-02, -4.37411095e-02,  1.24822191e-01,\n",
       "         4.16073969e-02,  1.06685633e-03,  1.06685633e-03,  1.06685633e-03,\n",
       "         1.89189189e-01,  1.12731152e-01,  1.20199147e-01,  3.32147937e-01,\n",
       "         4.15362731e-01,  4.98933144e-01,  5.13513514e-01,  6.67496444e-01,\n",
       "         6.72119488e-01,  5.43385491e-01,  6.09886202e-01,  4.36699858e-01,\n",
       "         4.23186344e-01,  3.34637269e-01,  4.02560455e-01,  4.32788051e-01,\n",
       "         4.28876245e-01,  3.24324324e-01,  3.18634424e-01,  2.55689900e-01,\n",
       "         2.59957326e-01,  2.09459459e-01,  3.40327169e-01,  2.95163585e-01,\n",
       "         3.10455192e-01,  2.58534851e-01,  2.85561878e-01,  3.24324324e-01,\n",
       "         4.16785206e-01,  5.19914651e-01,  4.43100996e-01,  4.48435277e-01,\n",
       "         4.23186344e-01,  4.97510669e-01,  5.78591750e-01,  4.84352774e-01,\n",
       "         1.05263158e-01,  8.03698435e-02,  2.04125178e-01,  2.74893314e-01,\n",
       "         2.22617354e-01,  8.17923186e-02,  7.82361309e-02,  1.13086771e-01,\n",
       "         1.01351351e-01,  1.44025605e-01,  1.42603129e-01,  3.34637269e-01,\n",
       "         2.44665718e-01,  2.70625889e-01,  3.10455192e-01,  2.96941679e-01,\n",
       "         1.72475107e-01,  1.00640114e-01,  4.19630156e-02,  1.36201991e-01,\n",
       "         8.57041252e-02,  1.57539118e-01,  1.51849218e-01,  1.56827881e-01,\n",
       "         6.93456615e-02,  1.09886202e-01,  1.14864865e-01,  4.90753912e-02,\n",
       "         1.20199147e-01,  1.49359886e-01, -3.98293030e-02, -6.04551920e-03,\n",
       "        -1.63584637e-02,  4.12517781e-02,  1.67140825e-02,  2.52489331e-02,\n",
       "         2.20483642e-02, -8.96159317e-02, -6.04551920e-02, -1.67852063e-01,\n",
       "         2.34708393e-02, -2.31152205e-02, -6.04551920e-02, -1.13086771e-01,\n",
       "        -1.90967283e-01, -1.52560455e-01, -2.07681366e-01, -3.89402560e-01,\n",
       "        -3.27169275e-01, -3.89758179e-01, -3.89046942e-01, -3.44950213e-01,\n",
       "        -2.77382646e-01, -3.71621622e-01, -4.46301565e-01, -5.24537696e-01,\n",
       "        -5.57965861e-01, -4.89687055e-01, -5.60455192e-01, -6.87411095e-01,\n",
       "        -7.15504979e-01, -7.21550498e-01, -7.80583215e-01, -7.93029872e-01,\n",
       "        -7.93741110e-01, -8.49928876e-01, -7.29018492e-01, -5.73613087e-01,\n",
       "        -7.45732575e-01, -8.31436700e-01, -7.01991465e-01, -6.75320057e-01,\n",
       "        -7.87339972e-01, -7.69914651e-01, -8.41038407e-01, -8.25391181e-01,\n",
       "        -8.33570413e-01, -8.37482219e-01, -1.00000000e+00, -9.25675676e-01,\n",
       "        -8.45661451e-01, -8.49573257e-01]))"
      ]
     },
     "execution_count": 132,
     "metadata": {},
     "output_type": "execute_result"
    }
   ],
   "source": [
    "y_test = np.insert(y_test, 0, y_test_split_from_train, axis=0)\n",
    "y_test.shape, y_test"
   ]
  },
  {
   "cell_type": "code",
   "execution_count": 133,
   "metadata": {},
   "outputs": [
    {
     "data": {
      "text/plain": [
       "((6183, 7, 1), (518, 7, 1), (6183, 1), (518, 1))"
      ]
     },
     "execution_count": 133,
     "metadata": {},
     "output_type": "execute_result"
    }
   ],
   "source": [
    "X_train = X_train.reshape((-1, lookback, 1))\n",
    "X_test = X_test.reshape((-1, lookback, 1))\n",
    "\n",
    "y_train = y_train.reshape((-1, 1))\n",
    "y_test = y_test.reshape((-1, 1))\n",
    "\n",
    "X_train.shape, X_test.shape, y_train.shape, y_test.shape"
   ]
  },
  {
   "cell_type": "code",
   "execution_count": 134,
   "metadata": {},
   "outputs": [
    {
     "data": {
      "text/plain": [
       "(torch.Size([6183, 7, 1]),\n",
       " torch.Size([518, 7, 1]),\n",
       " torch.Size([6183, 1]),\n",
       " torch.Size([518, 1]))"
      ]
     },
     "execution_count": 134,
     "metadata": {},
     "output_type": "execute_result"
    }
   ],
   "source": [
    "X_train = torch.tensor(X_train).float()\n",
    "y_train = torch.tensor(y_train).float()\n",
    "X_test = torch.tensor(X_test).float()\n",
    "y_test = torch.tensor(y_test).float()\n",
    "\n",
    "X_train.shape, X_test.shape, y_train.shape, y_test.shape"
   ]
  },
  {
   "cell_type": "code",
   "execution_count": 135,
   "metadata": {},
   "outputs": [],
   "source": [
    "from torch.utils.data import Dataset\n",
    "\n",
    "class TimeSeriesDataset(Dataset):\n",
    "    def __init__(self, X, y):\n",
    "        self.X = X\n",
    "        self.y = y\n",
    "    \n",
    "    def __len__(self):\n",
    "        return len(self.X)\n",
    "    \n",
    "    def __getitem__(self, i):\n",
    "        return self.X[i], self.y[i]\n",
    "\n",
    "train_dataset = TimeSeriesDataset(X_train, y_train)\n",
    "test_dataset = TimeSeriesDataset(X_test, y_test)"
   ]
  },
  {
   "cell_type": "code",
   "execution_count": 136,
   "metadata": {},
   "outputs": [
    {
     "data": {
      "text/plain": [
       "<__main__.TimeSeriesDataset at 0x29937edbfa0>"
      ]
     },
     "execution_count": 136,
     "metadata": {},
     "output_type": "execute_result"
    }
   ],
   "source": [
    "train_dataset"
   ]
  },
  {
   "cell_type": "code",
   "execution_count": 137,
   "metadata": {},
   "outputs": [],
   "source": [
    "from torch.utils.data import DataLoader\n",
    "\n",
    "batch_size = 16\n",
    "\n",
    "train_loader = DataLoader(train_dataset, batch_size = batch_size, shuffle=True)\n",
    "test_loader = DataLoader(test_dataset, batch_size=batch_size, shuffle=False)"
   ]
  },
  {
   "cell_type": "code",
   "execution_count": 138,
   "metadata": {},
   "outputs": [
    {
     "name": "stdout",
     "output_type": "stream",
     "text": [
      "torch.Size([16, 7, 1]) torch.Size([16, 1])\n"
     ]
    }
   ],
   "source": [
    "for _, batch in enumerate(train_loader):\n",
    "    x_batch, y_batch = batch[0].to(device), batch[1].to(device)\n",
    "    print(x_batch.shape, y_batch.shape)\n",
    "    break"
   ]
  },
  {
   "cell_type": "code",
   "execution_count": 139,
   "metadata": {},
   "outputs": [
    {
     "data": {
      "text/plain": [
       "LSTM(\n",
       "  (lstm): LSTM(1, 4, num_layers=2, batch_first=True)\n",
       "  (fc): Linear(in_features=4, out_features=1, bias=True)\n",
       ")"
      ]
     },
     "execution_count": 139,
     "metadata": {},
     "output_type": "execute_result"
    }
   ],
   "source": [
    "class LSTM(nn.Module):\n",
    "    def __init__(self, input_size, hidden_size, num_stacked_layers):\n",
    "        super().__init__()\n",
    "        self.hidden_size = hidden_size\n",
    "        self.num_stacked_layers = num_stacked_layers\n",
    "        \n",
    "        self.lstm = nn.LSTM(input_size, hidden_size, num_stacked_layers, batch_first=True)\n",
    "        self.fc = nn.Linear(hidden_size, 1)\n",
    "        \n",
    "    def forward(self, x):\n",
    "        batch_size = x.size(0)\n",
    "        h0 = torch.zeros(self.num_stacked_layers, batch_size, self.hidden_size).to(device)\n",
    "        c0 = torch.zeros(self.num_stacked_layers, batch_size, self.hidden_size).to(device)\n",
    "        \n",
    "        out, _ = self.lstm(x, (h0, c0))\n",
    "        out = self.fc(out[:, -1, :])\n",
    "        return out\n",
    "\n",
    "model = LSTM(1, 4, 2)\n",
    "model.to(device)\n",
    "model"
   ]
  },
  {
   "cell_type": "code",
   "execution_count": 140,
   "metadata": {},
   "outputs": [],
   "source": [
    "def train_one_epoch():\n",
    "    model.train(True)\n",
    "    print(f'Epoch: {epoch + 1}')\n",
    "    running_loss = 0.0\n",
    "    \n",
    "    for batch_index, batch in enumerate(train_loader):\n",
    "        x_batch, y_batch = batch[0].to(device), batch[1].to(device)\n",
    "        \n",
    "        output = model(x_batch)\n",
    "        loss = loss_function(output, y_batch)\n",
    "        running_loss += loss\n",
    "        optimizer.zero_grad()\n",
    "        loss.backward()\n",
    "        optimizer.step()\n",
    "        \n",
    "        if batch_index %100 == 99: #Print every 100 batches\n",
    "            avg_loss_across_batches = running_loss / 100\n",
    "            print('Batch {0}, Loss: {1:.3f}'.format(batch_index+1, avg_loss_across_batches))\n",
    "            running_loss = 0.0\n",
    "    \n",
    "    print()"
   ]
  },
  {
   "cell_type": "code",
   "execution_count": 141,
   "metadata": {},
   "outputs": [],
   "source": [
    "def validate_one_epoch():\n",
    "    model.train(False)\n",
    "    running_loss = 0.0\n",
    "    \n",
    "    for batch_index, batch in enumerate(train_loader):\n",
    "        x_batch, y_batch = batch[0].to(device), batch[1].to(device)\n",
    "        \n",
    "        with torch.no_grad():\n",
    "            output = model(x_batch)\n",
    "            loss = loss_function(output, y_batch)\n",
    "            running_loss += loss\n",
    "    \n",
    "    avg_loss_across_batches = running_loss / len(test_loader)\n",
    "    \n",
    "    print('Val Loss: {0:.3f}'.format(avg_loss_across_batches))\n",
    "    print('****************************************************')\n",
    "    print()"
   ]
  },
  {
   "cell_type": "code",
   "execution_count": 142,
   "metadata": {},
   "outputs": [
    {
     "name": "stdout",
     "output_type": "stream",
     "text": [
      "Epoch: 1\n",
      "Batch 100, Loss: 0.594\n"
     ]
    },
    {
     "name": "stdout",
     "output_type": "stream",
     "text": [
      "Batch 200, Loss: 0.205\n",
      "Batch 300, Loss: 0.059\n",
      "\n",
      "Val Loss: 0.297\n",
      "****************************************************\n",
      "\n",
      "Epoch: 2\n",
      "Batch 100, Loss: 0.019\n",
      "Batch 200, Loss: 0.019\n",
      "Batch 300, Loss: 0.012\n",
      "\n",
      "Val Loss: 0.073\n",
      "****************************************************\n",
      "\n",
      "Epoch: 3\n",
      "Batch 100, Loss: 0.004\n",
      "Batch 200, Loss: 0.003\n",
      "Batch 300, Loss: 0.002\n",
      "\n",
      "Val Loss: 0.012\n",
      "****************************************************\n",
      "\n",
      "Epoch: 4\n",
      "Batch 100, Loss: 0.001\n",
      "Batch 200, Loss: 0.001\n",
      "Batch 300, Loss: 0.001\n",
      "\n",
      "Val Loss: 0.007\n",
      "****************************************************\n",
      "\n",
      "Epoch: 5\n",
      "Batch 100, Loss: 0.001\n",
      "Batch 200, Loss: 0.001\n",
      "Batch 300, Loss: 0.000\n",
      "\n",
      "Val Loss: 0.005\n",
      "****************************************************\n",
      "\n",
      "Epoch: 6\n",
      "Batch 100, Loss: 0.000\n",
      "Batch 200, Loss: 0.000\n",
      "Batch 300, Loss: 0.000\n",
      "\n",
      "Val Loss: 0.005\n",
      "****************************************************\n",
      "\n",
      "Epoch: 7\n",
      "Batch 100, Loss: 0.000\n",
      "Batch 200, Loss: 0.000\n",
      "Batch 300, Loss: 0.000\n",
      "\n",
      "Val Loss: 0.005\n",
      "****************************************************\n",
      "\n",
      "Epoch: 8\n",
      "Batch 100, Loss: 0.000\n",
      "Batch 200, Loss: 0.000\n",
      "Batch 300, Loss: 0.000\n",
      "\n",
      "Val Loss: 0.004\n",
      "****************************************************\n",
      "\n",
      "Epoch: 9\n",
      "Batch 100, Loss: 0.000\n",
      "Batch 200, Loss: 0.000\n",
      "Batch 300, Loss: 0.000\n",
      "\n",
      "Val Loss: 0.004\n",
      "****************************************************\n",
      "\n",
      "Epoch: 10\n",
      "Batch 100, Loss: 0.000\n",
      "Batch 200, Loss: 0.000\n",
      "Batch 300, Loss: 0.000\n",
      "\n",
      "Val Loss: 0.004\n",
      "****************************************************\n",
      "\n"
     ]
    }
   ],
   "source": [
    "learning_rate = 0.001\n",
    "num_epochs = 10\n",
    "loss_function = nn.MSELoss()\n",
    "optimizer = torch.optim.Adam(model.parameters(), lr = learning_rate)\n",
    "\n",
    "for epoch in range(num_epochs):\n",
    "    train_one_epoch()\n",
    "    validate_one_epoch()"
   ]
  },
  {
   "cell_type": "code",
   "execution_count": 143,
   "metadata": {},
   "outputs": [
    {
     "data": {
      "image/png": "[encoded data removed]",
      "text/plain": [
       "<Figure size 640x480 with 1 Axes>"
      ]
     },
     "metadata": {},
     "output_type": "display_data"
    }
   ],
   "source": [
    "with torch.no_grad():\n",
    "    predicted = model(X_train.to(device))\n",
    "\n",
    "predicted = predicted.cpu().numpy()\n",
    "\n",
    "plt.plot(y_train, label = 'Actual Close')\n",
    "plt.plot(predicted, label = 'Predicted Close')\n",
    "plt.xlabel('Day')\n",
    "plt.ylabel('Close')\n",
    "plt.legend()\n",
    "plt.show()"
   ]
  },
  {
   "cell_type": "code",
   "execution_count": 144,
   "metadata": {},
   "outputs": [
    {
     "data": {
      "text/plain": [
       "array([ 98.05939705,  98.05856403,  98.05816345, ..., 148.95196107,\n",
       "       148.9307955 , 148.90193503])"
      ]
     },
     "execution_count": 144,
     "metadata": {},
     "output_type": "execute_result"
    }
   ],
   "source": [
    "train_predictions = predicted.flatten()\n",
    "\n",
    "dummies = np.zeros((X_train.shape[0], lookback+1))\n",
    "dummies[:, 0] = train_predictions\n",
    "dummies = scaler.inverse_transform(dummies)\n",
    "\n",
    "train_predictions = dc(dummies[:, 0])\n",
    "train_predictions"
   ]
  },
  {
   "cell_type": "code",
   "execution_count": 145,
   "metadata": {},
   "outputs": [
    {
     "data": {
      "text/plain": [
       "array([ 97.83251245,  97.83172804,  97.83133416, ..., 148.79911407,\n",
       "       150.07273237, 148.73262052])"
      ]
     },
     "execution_count": 145,
     "metadata": {},
     "output_type": "execute_result"
    }
   ],
   "source": [
    "dummies = np.zeros((X_train.shape[0], lookback+1))\n",
    "dummies[:, 0] = y_train.flatten()\n",
    "dummies = scaler.inverse_transform(dummies)\n",
    "\n",
    "new_y_train = dc(dummies[:, 0])\n",
    "new_y_train"
   ]
  },
  {
   "cell_type": "code",
   "execution_count": 146,
   "metadata": {},
   "outputs": [
    {
     "data": {
      "image/png": "[encoded data removed]",
      "text/plain": [
       "<Figure size 640x480 with 1 Axes>"
      ]
     },
     "metadata": {},
     "output_type": "display_data"
    }
   ],
   "source": [
    "plt.plot(new_y_train, label = 'Actual Close')\n",
    "plt.plot(train_predictions, label = 'Predicted Close')\n",
    "plt.xlabel('Day')\n",
    "plt.ylabel('Close')\n",
    "plt.legend()\n",
    "plt.show()"
   ]
  },
  {
   "cell_type": "code",
   "execution_count": 147,
   "metadata": {},
   "outputs": [
    {
     "data": {
      "text/plain": [
       "array([148.74116686, 148.58163229, 148.42929985, 148.35564775,\n",
       "       148.37359859, 148.41027631, 148.35055413, 148.39617208,\n",
       "       148.39965665, 148.43330736, 148.34559628, 148.28462543,\n",
       "       148.20828657, 148.09147869, 147.89689388, 147.69765794,\n",
       "       147.47511272, 147.35199607, 147.19005968, 147.05883749,\n",
       "       146.99710402, 146.89367464, 146.70892005, 146.38813125,\n",
       "       145.66711906, 144.83388308, 143.95727679, 142.9474873 ,\n",
       "       142.048807  , 141.42006148, 141.27197288, 141.64733829,\n",
       "       142.02976   , 142.23640758, 142.79783156, 143.48098942,\n",
       "       144.14010556, 144.66575859, 145.09973828, 145.37968262,\n",
       "       145.84395751, 145.74437976, 145.67753591, 145.46836583,\n",
       "       145.20750704, 144.93584924, 144.64409522, 144.35308537,\n",
       "       144.14334375, 143.972504  , 143.90728092, 143.92879512,\n",
       "       143.92829565, 143.94146966, 143.43985836, 142.66697476,\n",
       "       141.92167278, 141.52314894, 141.24063014, 141.09466345,\n",
       "       141.2046547 , 141.83991012, 142.6954095 , 143.57374048,\n",
       "       144.26481784, 145.07230918, 145.89892966, 146.4677921 ,\n",
       "       146.8369912 , 147.15129356, 147.39942921, 147.58730131,\n",
       "       147.60026078, 147.60304476, 147.66172273, 147.64558541,\n",
       "       147.40118072, 147.06982254, 146.71116265, 146.29886811,\n",
       "       145.78108932, 145.22516624, 144.79763277, 144.56093135,\n",
       "       144.52464249, 144.5875995 , 144.57889058, 144.36291728,\n",
       "       143.94598502, 143.45159093, 142.76898618, 142.05222956,\n",
       "       141.01541994, 139.93925171, 138.89843291, 137.83784303,\n",
       "       136.79678789, 135.64257036, 134.07713267, 133.28213568,\n",
       "       132.34911999, 131.44551536, 130.74610788, 130.50867611,\n",
       "       130.52502923, 130.59456906, 130.57358199, 130.64433195,\n",
       "       130.61505498, 130.23779057, 129.98362815, 129.74579538,\n",
       "       130.05197   , 130.60073118, 131.2961169 , 132.17982056,\n",
       "       133.13641622, 133.98628564, 134.57645276, 134.87557652,\n",
       "       134.74540022, 134.2378472 , 133.26888038, 132.26188324,\n",
       "       131.28926843, 130.37819308, 129.6555488 , 129.3027837 ,\n",
       "       129.30648952, 129.67981597, 130.26777527, 130.62649508,\n",
       "       130.91374463, 131.02255843, 130.91923003, 130.84719912,\n",
       "       130.78530139, 130.6917257 , 130.86796579, 131.28987936,\n",
       "       131.52715567, 131.70071402, 131.68648324, 131.50843383,\n",
       "       131.39247238, 131.26585774, 131.36371583, 131.85094969,\n",
       "       132.58782265, 133.25029765, 133.81167219, 133.99035852,\n",
       "       134.20397274, 134.30013546, 134.66662266, 135.22151662,\n",
       "       135.93547418, 136.88696952, 138.188032  , 139.18645765,\n",
       "       139.97509474, 140.16796073, 140.43589427, 140.70516532,\n",
       "       140.83527123, 140.89499676, 141.08905528, 141.27596531,\n",
       "       141.46225016, 141.33208726, 141.04284065, 140.54706715,\n",
       "       140.03671843, 139.59083772, 139.13097764, 138.59625533,\n",
       "       138.1765391 , 137.86207918, 137.52228025, 137.17082584,\n",
       "       136.67890984, 136.56379984, 136.55952918, 136.74793846,\n",
       "       137.17926156, 137.32714066, 137.40546903, 137.40811724,\n",
       "       137.1267742 , 136.79246695, 136.24287192, 135.46994475,\n",
       "       134.99918259, 134.32317992, 133.7432193 , 133.2654243 ,\n",
       "       132.8798658 , 132.58383609, 132.37238569, 132.28211607,\n",
       "       132.52809125, 132.80632348, 133.11298794, 133.09711208,\n",
       "       133.0876749 , 133.02637302, 132.80447728, 132.36480477,\n",
       "       131.77519746, 131.38836555, 131.409198  , 131.50574455,\n",
       "       131.67201614, 131.9472398 , 132.32744238, 132.9454308 ,\n",
       "       133.122731  , 132.97084356, 132.52248727, 131.87151271,\n",
       "       130.82454854, 129.54806079, 128.124506  , 126.95616632,\n",
       "       126.03832432, 125.43920492, 124.80402796, 124.67240373,\n",
       "       124.98637705, 125.43672725, 125.83128118, 126.18393902,\n",
       "       126.45553134, 126.75321996, 126.55671813, 126.20493311,\n",
       "       125.98067713, 125.74947882, 125.61576975, 125.53682154,\n",
       "       125.59409486, 125.73199099, 125.79929514, 125.7193594 ,\n",
       "       125.53240349, 125.27946241, 125.11624433, 124.79598947,\n",
       "       124.56769151, 124.48644194, 124.54258317, 124.60458408,\n",
       "       124.58569714, 124.38878363, 124.19466885, 123.97927673,\n",
       "       123.63950043, 123.36353301, 123.16118207, 122.93399284,\n",
       "       122.85858504, 122.79276989, 122.74107364, 122.80580185,\n",
       "       122.76643905, 122.864585  , 123.06401956, 123.27483555,\n",
       "       123.67942178, 124.10832126, 124.67361082, 125.27547627,\n",
       "       125.71196065, 126.00499981, 126.24955294, 126.33705032,\n",
       "       126.39126405, 126.35849663, 126.47790746, 126.74464889,\n",
       "       127.06459043, 127.31285221, 127.64429126, 128.2915842 ,\n",
       "       128.71767918, 128.90718965, 128.9134913 , 128.88434967,\n",
       "       128.64789883, 128.25916248, 127.65190403, 127.4722594 ,\n",
       "       127.40446877, 127.28668269, 127.19492492, 127.06834444,\n",
       "       126.94911861, 126.7597395 , 126.50115012, 126.18252462,\n",
       "       126.00087194, 125.81394001, 125.69860835, 125.61394868,\n",
       "       125.54315535, 125.5526666 , 125.55804693, 125.50698203,\n",
       "       125.46458605, 125.43462764, 125.39264932, 125.4781157 ,\n",
       "       125.71886108, 125.98285803, 126.27666525, 126.67891419,\n",
       "       126.97247335, 127.14133951, 127.21702533, 127.13430122,\n",
       "       127.06912947, 127.1214134 , 127.16176614, 127.35710184,\n",
       "       127.55670672, 127.81859662, 150.26233419, 150.22584419,\n",
       "       150.07669128, 149.88537483, 149.49805895, 148.74904445,\n",
       "       147.93599019, 147.21542551, 146.89811123, 147.13003581,\n",
       "       147.71370141, 148.57543581, 149.33010039, 149.73353012,\n",
       "       149.93194311, 150.01037204, 150.03943699, 149.91622816,\n",
       "       149.58093118, 149.17895964, 148.62730219, 148.00481349,\n",
       "       147.25879247, 146.49849458, 145.96444606, 145.77207367,\n",
       "       145.35987468, 145.19583982, 145.22020001, 145.08571114,\n",
       "       145.12803223, 145.46827532, 145.53696454, 145.76503748,\n",
       "       145.54747022, 145.4472321 , 145.27877574, 144.78953729,\n",
       "       144.1818132 , 143.88687964, 143.44579839, 143.31125924,\n",
       "       142.70654204, 142.20282558, 142.06939768, 141.59236948,\n",
       "       140.61063761, 139.90823413, 138.89632607, 137.79298519,\n",
       "       136.22616892, 134.02950762, 131.23724953, 128.41005517,\n",
       "       126.34913069, 124.65523896, 123.52227437, 122.88251741,\n",
       "       123.09637801, 124.62972459, 126.13277157, 126.54779529,\n",
       "       127.4090187 , 128.42746045, 128.72133136, 128.78197958,\n",
       "       128.24510811, 127.3356748 , 126.77913722, 125.70552869,\n",
       "       125.11045137, 124.84371194, 124.58649066, 124.37109938,\n",
       "       124.36070484, 124.72051798, 125.36240409, 125.41487417,\n",
       "       126.43565007, 128.1097879 , 130.24145533, 132.59938762,\n",
       "       134.82461356, 137.51706596, 139.62038705, 140.85807098,\n",
       "       141.21305187, 140.873263  , 140.07007918, 138.64114752,\n",
       "       137.39322692, 136.7366182 , 135.67430783, 135.20790683,\n",
       "       134.57536331, 134.13075223, 133.23190432, 132.53779996,\n",
       "       131.97273301, 131.89406356, 131.78039164, 131.90967208,\n",
       "       132.15191463, 132.85561959, 133.54183211, 134.40258014,\n",
       "       135.20941028, 136.10086834, 136.94959551, 137.8901653 ,\n",
       "       138.2863024 , 137.14744533, 135.69900742, 134.28574964,\n",
       "       133.11597807, 131.67807518, 129.70148059, 128.16933283,\n",
       "       128.14410485, 128.10554155, 127.69726553, 127.13253798,\n",
       "       127.40593995, 128.24337252, 129.1107876 , 130.02035489,\n",
       "       130.91835637, 131.25042521, 131.133394  , 129.96312966,\n",
       "       129.25372476, 128.37792299, 127.5546399 , 126.97374969,\n",
       "       126.94768367, 126.99542772, 127.21937478, 127.12380936,\n",
       "       127.00028857, 126.73918989, 126.66383154, 126.13026363,\n",
       "       125.80297204, 125.27838741, 124.84708579, 124.66256208,\n",
       "       124.24610081, 123.81487691, 123.76865474, 123.52898834,\n",
       "       123.01856881, 122.6528568 , 122.47633639, 122.17965468,\n",
       "       121.80649584, 121.53618059, 121.14066867, 120.9135578 ,\n",
       "       119.50547074, 118.21811191, 116.93704259, 115.76613546,\n",
       "       114.98568855, 114.35117311, 113.89373413, 113.81600916,\n",
       "       113.22661471, 112.55475531, 111.871429  , 110.90051122,\n",
       "       109.39105972, 108.03288137, 106.83092733, 105.68324317,\n",
       "       104.50812992, 103.15122372, 102.03048427, 101.59332672,\n",
       "       101.79466615, 101.99499657, 102.14978112, 102.4841948 ,\n",
       "       102.90049182, 103.18016967, 102.92160543, 102.07603852,\n",
       "       101.75719397, 101.58240369, 100.93627217,  99.96521863,\n",
       "        99.32588697,  98.84492501])"
      ]
     },
     "execution_count": 147,
     "metadata": {},
     "output_type": "execute_result"
    }
   ],
   "source": [
    "test_predictions = model(X_test.to(device)).detach().cpu().numpy().flatten()\n",
    "\n",
    "dummies = np.zeros((X_test.shape[0], lookback+1))\n",
    "dummies[:, 0] = test_predictions\n",
    "dummies = scaler.inverse_transform(dummies)\n",
    "\n",
    "test_predictions = dc(dummies[:, 0])\n",
    "test_predictions"
   ]
  },
  {
   "cell_type": "code",
   "execution_count": 148,
   "metadata": {},
   "outputs": [
    {
     "data": {
      "text/plain": [
       "array([149.07835278, 148.19223137, 149.19882625, 149.38578991,\n",
       "       149.3952866 , 148.9734099 , 149.27240292, 148.83213457,\n",
       "       148.6643168 , 148.08306811, 149.19505339, 148.32582186,\n",
       "       147.37139673, 147.03878149, 146.82769397, 146.50562967,\n",
       "       147.67446096, 147.62772004, 146.42361056, 146.70224589,\n",
       "       145.73108507, 144.94146244, 143.54480794, 140.823423  ,\n",
       "       141.39668013, 140.0221868 , 139.68640627, 139.91709558,\n",
       "       141.22599793, 142.9133522 , 143.40187162, 143.22666903,\n",
       "       139.67826638, 145.34569837, 145.43495983, 146.48376852,\n",
       "       146.41622072, 145.7570191 , 144.03513921, 144.60010475,\n",
       "       145.00524241, 145.48471434, 144.44495146, 143.82646189,\n",
       "       143.10152097, 141.48201788, 143.45147864, 144.18440777,\n",
       "       144.1164091 , 143.38634104, 143.66091019, 142.40824627,\n",
       "       141.72748688, 139.25834986, 138.82455957, 139.80899076,\n",
       "       142.08226664, 141.69235619, 140.58519133, 142.24782002,\n",
       "       143.97799485, 145.22492489, 146.4346174 , 146.50729066,\n",
       "       147.53182801, 147.08522406, 147.15804985, 147.49699566,\n",
       "       148.76865294, 148.86651103, 147.95762003, 146.96143195,\n",
       "       147.13105822, 148.57445195, 147.28032678, 145.68238482,\n",
       "       145.38942401, 144.38705287, 143.38030882, 143.27944216,\n",
       "       144.712885  , 143.55656902, 143.88179944, 145.48923809,\n",
       "       144.24758435, 142.52811635, 141.33817814, 141.85806042,\n",
       "       139.84276467, 139.47366111, 141.41250906, 135.28641119,\n",
       "       135.35230051, 135.27796708, 135.78307134, 132.91181109,\n",
       "       132.41891878, 130.61456221, 130.63567079, 129.58414727,\n",
       "       130.05411957, 131.90099752, 131.22415639, 132.59864637,\n",
       "       130.10900499, 130.17127523, 130.25329894, 130.24304509,\n",
       "       129.20056738, 130.00722949, 131.30467121, 132.5317007 ,\n",
       "       134.05847703, 134.50311912, 135.65717323, 134.70395572,\n",
       "       135.4397518 , 134.89996688, 134.35113614, 132.83431239,\n",
       "       130.87420165, 129.07089851, 128.66078309, 130.27712069,\n",
       "       129.0678847 , 129.83986593, 130.58169213, 130.6631112 ,\n",
       "       131.71554149, 132.9277938 , 131.95075454, 130.19570162,\n",
       "       130.65406496, 129.83684982, 130.84706043, 132.03518972,\n",
       "       132.28548123, 132.88859232, 132.65036316, 131.50746757,\n",
       "       130.74453236, 131.10036805, 131.16972435, 132.05026818,\n",
       "       132.11359477, 133.45551553, 134.83060807, 135.39150157,\n",
       "       134.72506431, 134.33907337, 132.43022689, 134.28780955,\n",
       "       134.68284714, 138.50355455, 138.63623911, 138.2653279 ,\n",
       "       139.88166487, 140.80141101, 140.2676558 , 139.84849436,\n",
       "       139.37203603, 140.83759596, 140.21940641, 141.09693287,\n",
       "       140.98535437, 141.46784492, 140.65967811, 140.71998859,\n",
       "       139.49265615, 137.98186462, 138.10248474, 138.15676719,\n",
       "       139.20617927, 137.23702188, 136.94752638, 136.62787899,\n",
       "       136.03683025, 136.35346488, 136.25998305, 135.83780466,\n",
       "       136.85404539, 136.95657807, 137.99694349, 138.95588734,\n",
       "       136.05190912, 136.57360073, 135.88906848, 135.05979141,\n",
       "       135.40055074, 134.65570801, 133.55502958, 133.18411585,\n",
       "       132.11962489, 132.53275705, 132.30960634, 133.39520589,\n",
       "       132.42721287, 131.88441184, 132.75289081, 134.3239945 ,\n",
       "       134.28177733, 134.08576785, 132.35483795, 132.08645354,\n",
       "       131.64618268, 131.85425702, 131.74268062, 130.04492416,\n",
       "       132.122641  , 132.89763856, 132.50863194, 132.56291187,\n",
       "       133.79024264, 133.94102051, 134.17623357, 132.68655062,\n",
       "       131.2692384 , 128.99249576, 128.69998645, 126.99619757,\n",
       "       125.58793392, 124.7375474 , 125.24416065, 125.10845945,\n",
       "       124.94260511, 123.78463074, 126.94794744, 128.20241954,\n",
       "       127.50884095, 127.64454215, 127.09571141, 126.41117895,\n",
       "       126.19707482, 125.69046159, 125.91361205, 126.19405866,\n",
       "       125.97694082, 126.13977868, 125.67839906, 126.92080863,\n",
       "       126.60719063, 126.19405866, 125.25320699, 124.42091319,\n",
       "       124.48423957, 125.0541792 , 124.67421861, 125.11449178,\n",
       "       125.69950793, 125.42509367, 124.48122335, 124.30330687,\n",
       "       123.41673271, 123.49815387, 123.9746101 , 123.07597589,\n",
       "       123.51624676, 122.84980929, 122.48191125, 123.19358221,\n",
       "       123.13930227, 123.68813343, 123.4830752 , 122.8739344 ,\n",
       "       123.76653827, 124.1525292 , 124.90943407, 126.48355167,\n",
       "       126.53783192, 127.39726696, 126.77304707, 126.59512807,\n",
       "       126.0583596 , 127.13491278, 127.21633185, 126.85446614,\n",
       "       127.11380388, 127.72897732, 128.63967409, 128.13004692,\n",
       "       128.90805828, 129.51720201, 131.85727313, 128.98646333,\n",
       "       128.6215814 , 128.60047282, 127.97926904, 127.43345211,\n",
       "       127.24347307, 127.82547506, 127.87372277, 128.31399594,\n",
       "       127.4063133 , 127.11983411, 126.32976015, 126.69464202,\n",
       "       126.70368836, 126.00407961, 126.08248464, 126.22421602,\n",
       "       125.60301018, 125.59094767, 126.42625793, 126.07946848,\n",
       "       126.01915828, 126.13073232, 125.62713524, 125.16877177,\n",
       "       125.68141523, 126.42022529, 126.81827857, 127.97625293,\n",
       "       127.64755616, 127.273628  , 128.1481396 , 127.57216733,\n",
       "       127.57518344, 127.40028066, 127.37314195, 127.13189657,\n",
       "       128.03957931, 128.56730147, 128.9563083 , 128.69094042,\n",
       "       129.15533368, 128.29590074, 153.72999994, 151.3700002 ,\n",
       "       149.09999939, 145.23999957, 144.57000063, 148.47000016,\n",
       "       149.93000053, 151.9400007 , 153.38000037, 153.34000066,\n",
       "       153.41000057, 153.42000008, 153.83999956, 152.12000024,\n",
       "       153.79000034, 154.07      , 149.97000024, 147.41999977,\n",
       "       148.84000043, 147.48000018, 145.88999949, 147.41999977,\n",
       "       146.87999948, 144.51999974, 146.87999948, 144.84000078,\n",
       "       147.03000049, 146.08999973, 146.32000016, 147.03000049,\n",
       "       147.72999963, 146.73999965, 146.70999945, 143.90000002,\n",
       "       146.12999944, 145.17999917, 142.83000061, 143.1999992 ,\n",
       "       145.80000056, 142.59000067, 143.55999996, 140.59999952,\n",
       "       142.08000057, 142.7099998 , 139.73999985, 138.59999969,\n",
       "       138.06999974, 137.00000034, 133.08999963, 132.70999985,\n",
       "       127.74000008, 119.56999992, 121.3900002 , 128.56000003,\n",
       "       126.56      , 125.17000002, 128.39999993, 128.12999999,\n",
       "       131.47      , 132.55000017, 129.78999996, 132.33000008,\n",
       "       131.82999991, 129.4800001 , 128.2600001 , 127.95999996,\n",
       "       125.96      , 126.99999997, 124.71999997, 129.46000004,\n",
       "       127.12000005, 125.98      , 125.98      , 125.98      ,\n",
       "       131.27000018, 129.11999997, 129.32999993, 135.28999968,\n",
       "       137.6300004 , 139.9799998 , 140.38999977, 144.71999997,\n",
       "       144.85000029, 141.23000042, 143.10000076, 138.23000027,\n",
       "       137.84999966, 135.3599996 , 137.26999965, 138.1199998 ,\n",
       "       138.01000018, 135.06999959, 134.90999991, 133.13999968,\n",
       "       133.25999966, 131.83999984, 135.52000012, 134.24999964,\n",
       "       134.68000031, 133.21999995, 133.98000033, 135.06999959,\n",
       "       137.67000012, 140.56999931, 138.40999981, 138.55999998,\n",
       "       137.84999966, 139.94000009, 142.2200004 , 139.56999982,\n",
       "       128.91000002, 128.21000004, 131.69000009, 133.67999998,\n",
       "       132.21000011, 128.24999996, 128.15000006, 129.1299999 ,\n",
       "       128.79999998, 130.00000012, 129.95999999, 135.3599996 ,\n",
       "       132.82999982, 133.56000001, 134.68000031, 134.2999997 ,\n",
       "       130.7999998 , 128.77999991, 127.12999997, 129.78000003,\n",
       "       128.36000001, 130.3799999 , 130.21999979, 130.36000004,\n",
       "       127.89999997, 129.03999992, 129.17999996, 127.33      ,\n",
       "       129.32999993, 130.14999988, 124.83000001, 125.78      ,\n",
       "       125.49000002, 127.11000001, 126.42000001, 126.66000001,\n",
       "       126.56999998, 123.42999995, 124.25      , 121.2300001 ,\n",
       "       126.61000001, 125.29999997, 124.25      , 122.7700001 ,\n",
       "       120.58000018, 121.65999993, 120.1099998 , 114.99999978,\n",
       "       116.75000015, 114.99000027, 115.01000013, 116.2500004 ,\n",
       "       118.15000011, 115.50000036, 113.39999959, 111.20000037,\n",
       "       110.2599996 , 112.18      , 110.18999969, 106.62000072,\n",
       "       105.82999929, 105.65999926, 104.00000034, 103.65000077,\n",
       "       103.63000007, 102.05000057, 105.44999952, 109.81999943,\n",
       "       104.98000081, 102.57000017, 106.21000074, 106.96000078,\n",
       "       103.80999961, 104.30000069, 102.30000003, 102.74000021,\n",
       "       102.50999977, 102.40000014,  97.83      ,  99.91999959,\n",
       "       102.16999971, 102.06000008])"
      ]
     },
     "execution_count": 148,
     "metadata": {},
     "output_type": "execute_result"
    }
   ],
   "source": [
    "dummies = np.zeros((X_test.shape[0], lookback+1))\n",
    "dummies[:, 0] = y_test.flatten()\n",
    "dummies = scaler.inverse_transform(dummies)\n",
    "\n",
    "new_y_test = dc(dummies[:, 0])\n",
    "new_y_test"
   ]
  },
  {
   "cell_type": "code",
   "execution_count": 149,
   "metadata": {},
   "outputs": [
    {
     "data": {
      "image/png": "[encoded data removed]",
      "text/plain": [
       "<Figure size 640x480 with 1 Axes>"
      ]
     },
     "metadata": {},
     "output_type": "display_data"
    }
   ],
   "source": [
    "plt.plot(new_y_test, label = 'Actual Close')\n",
    "plt.plot(test_predictions, label = 'Predicted Close')\n",
    "plt.xlabel('Day')\n",
    "plt.ylabel('Close')\n",
    "plt.legend()\n",
    "plt.show()"
   ]
  },
  {
   "cell_type": "code",
   "execution_count": 154,
   "metadata": {},
   "outputs": [
    {
     "data": {
      "text/plain": [
       "8.46850510073455"
      ]
     },
     "execution_count": 154,
     "metadata": {},
     "output_type": "execute_result"
    }
   ],
   "source": [
    "mse = (np.square(np.subtract(new_y_test, test_predictions))).mean()\n",
    "mse"
   ]
  },
  {
   "cell_type": "markdown",
   "metadata": {},
   "source": [
    "This shows that the model is pretty accurate with predictions being `±8.5 units` "
   ]
  }
 ],
 "metadata": {
  "kernelspec": {
   "display_name": "Python 3",
   "language": "python",
   "name": "python3"
  },
  "language_info": {
   "codemirror_mode": {
    "name": "ipython",
    "version": 3
   },
   "file_extension": ".py",
   "mimetype": "text/x-python",
   "name": "python",
   "nbconvert_exporter": "python",
   "pygments_lexer": "ipython3",
   "version": "3.10.13"
  }
 },
 "nbformat": 4,
 "nbformat_minor": 2
}
